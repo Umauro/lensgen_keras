{
 "cells": [
  {
   "cell_type": "code",
   "execution_count": 1,
   "metadata": {},
   "outputs": [],
   "source": [
    "import sys\n",
    "from pathlib import Path\n",
    "\n",
    "# Agregar la carpeta src al Path para poder cargar los métodos y clases necesarias.\n",
    "# También agregamos la carpeta data.\n",
    "src_path = str(Path.cwd().parents[0] / \"src\")\n",
    "\n",
    "if src_path not in sys.path:\n",
    "    sys.path.append(src_path)"
   ]
  },
  {
   "cell_type": "code",
   "execution_count": 2,
   "metadata": {},
   "outputs": [
    {
     "data": {
      "text/html": [
       "<style>.container { width:95% !important; }</style>"
      ],
      "text/plain": [
       "<IPython.core.display.HTML object>"
      ]
     },
     "metadata": {},
     "output_type": "display_data"
    }
   ],
   "source": [
    "from IPython.display import IFrame\n",
    "from IPython.core.display import display, HTML\n",
    "display(HTML(\"<style>.container { width:95% !important; }</style>\"))"
   ]
  },
  {
   "cell_type": "markdown",
   "metadata": {},
   "source": [
    "# Create dataset experiments"
   ]
  },
  {
   "cell_type": "markdown",
   "metadata": {},
   "source": [
    "Durante la experimentación realizada en la memoria fue necesario crear distintos dataset. Este notebook es utilizado para la generación de estos."
   ]
  },
  {
   "cell_type": "code",
   "execution_count": 3,
   "metadata": {},
   "outputs": [
    {
     "name": "stderr",
     "output_type": "stream",
     "text": [
      "Using TensorFlow backend.\n"
     ]
    }
   ],
   "source": [
    "import pandas as pd\n",
    "import numpy as np\n",
    "import tensorflow as tf\n",
    "from keras.models import load_model\n",
    "from experiments import create_dataset\n",
    "from utils.data import read_space_lens_images"
   ]
  },
  {
   "cell_type": "code",
   "execution_count": 4,
   "metadata": {},
   "outputs": [],
   "source": [
    "EXPERIMENTS_PATH = \"../data/experiments\"\n",
    "TRAIN_MIN = -4.2955635e-12\n",
    "TRAIN_MAX = 2.1745163e-09"
   ]
  },
  {
   "cell_type": "code",
   "execution_count": 5,
   "metadata": {},
   "outputs": [],
   "source": [
    "df_space = pd.read_csv(\n",
    "    '../data/space_based_data/SpaceBasedTraining/classifications.csv',\n",
    "    sep=','\n",
    ")\n",
    "df_space = df_space.astype({'ID':int})"
   ]
  },
  {
   "cell_type": "markdown",
   "metadata": {},
   "source": [
    "## Synthetic Dataset"
   ]
  },
  {
   "cell_type": "code",
   "execution_count": 5,
   "metadata": {},
   "outputs": [
    {
     "name": "stderr",
     "output_type": "stream",
     "text": [
      "C:\\Mauro\\titulo\\codigo_memoria\\env\\lib\\site-packages\\keras\\engine\\saving.py:341: UserWarning: No training configuration found in save file: the model was *not* compiled. Compile it manually.\n",
      "  warnings.warn('No training configuration found in save file: '\n"
     ]
    }
   ],
   "source": [
    "g_model = load_model('../models/50_epochs_test.h5',custom_objects={'tf': tf})"
   ]
  },
  {
   "cell_type": "code",
   "execution_count": 6,
   "metadata": {},
   "outputs": [
    {
     "name": "stderr",
     "output_type": "stream",
     "text": [
      "100%|████████████████████████████████████████████████████████████████████████████████| 100/100 [00:12<00:00,  7.87it/s]"
     ]
    },
    {
     "name": "stdout",
     "output_type": "stream",
     "text": [
      "Dataset creado correctamente\n"
     ]
    },
    {
     "name": "stderr",
     "output_type": "stream",
     "text": [
      "\n"
     ]
    }
   ],
   "source": [
    "create_dataset(\n",
    "    '50_epochs_100_images',\n",
    "    EXPERIMENTS_PATH,\n",
    "    100,\n",
    "    TRAIN_MAX,\n",
    "    TRAIN_MIN,\n",
    "    dataset_type='synthetic',\n",
    "    g_model=g_model\n",
    ")"
   ]
  },
  {
   "cell_type": "markdown",
   "metadata": {},
   "source": [
    "## Real Lens Dataset"
   ]
  },
  {
   "cell_type": "code",
   "execution_count": 12,
   "metadata": {},
   "outputs": [],
   "source": [
    "try:\n",
    "    dict_data = np.load('../data/space_based_data/space_lens_images.npz')\n",
    "    # extract the first array\n",
    "    lens_images = dict_data['arr_0']\n",
    "except:\n",
    "    path_space_based = '../data/space_based_data/SpaceBasedTraining/Public/Band1/'\n",
    "    lens_images = read_space_lens_images(\n",
    "        path_space_based,\n",
    "        df_space,\n",
    "        lens_label=1\n",
    "    )\n",
    "    np.savez_compressed('../data/space_based_data/space_lens_images.npz', lens_images)"
   ]
  },
  {
   "cell_type": "code",
   "execution_count": 13,
   "metadata": {},
   "outputs": [
    {
     "name": "stderr",
     "output_type": "stream",
     "text": [
      "100%|████████████████████████████████████████████████████████████████████████████████| 100/100 [00:12<00:00,  7.82it/s]"
     ]
    },
    {
     "name": "stdout",
     "output_type": "stream",
     "text": [
      "Dataset creado correctamente\n"
     ]
    },
    {
     "name": "stderr",
     "output_type": "stream",
     "text": [
      "\n"
     ]
    }
   ],
   "source": [
    "create_dataset(\n",
    "    'real_lens_100_images',\n",
    "    EXPERIMENTS_PATH,\n",
    "    100,\n",
    "    TRAIN_MAX,\n",
    "    TRAIN_MIN,\n",
    "    dataset_type='real',\n",
    "    lens_images=lens_images\n",
    ")"
   ]
  },
  {
   "cell_type": "markdown",
   "metadata": {},
   "source": [
    "## Real No Lens Dataset"
   ]
  },
  {
   "cell_type": "code",
   "execution_count": 6,
   "metadata": {},
   "outputs": [],
   "source": [
    "try:\n",
    "    dict_data = np.load('../data/space_based_data/space_no_lens_images.npz')\n",
    "    # extract the first array\n",
    "    no_lens_images = dict_data['arr_0']\n",
    "except:\n",
    "    path_space_based = '../data/space_based_data/SpaceBasedTraining/Public/Band1/'\n",
    "    no_lens_images = read_space_lens_images(\n",
    "        path_space_based,\n",
    "        df_space,\n",
    "        lens_label=0\n",
    "    )\n",
    "    np.savez_compressed('../data/space_based_data/space_no_lens_images.npz', no_lens_images)"
   ]
  },
  {
   "cell_type": "code",
   "execution_count": 7,
   "metadata": {},
   "outputs": [
    {
     "name": "stderr",
     "output_type": "stream",
     "text": [
      "100%|████████████████████████████████████████████████████████████████████████████████| 100/100 [00:04<00:00, 23.46it/s]"
     ]
    },
    {
     "name": "stdout",
     "output_type": "stream",
     "text": [
      "Dataset creado correctamente\n"
     ]
    },
    {
     "name": "stderr",
     "output_type": "stream",
     "text": [
      "\n"
     ]
    }
   ],
   "source": [
    "create_dataset(\n",
    "    'real_no_lens_100_images',\n",
    "    EXPERIMENTS_PATH,\n",
    "    100,\n",
    "    TRAIN_MAX,\n",
    "    TRAIN_MIN,\n",
    "    dataset_type='real',\n",
    "    lens_images=no_lens_images\n",
    ")"
   ]
  }
 ],
 "metadata": {
  "kernelspec": {
   "display_name": "Python 3.5.2 64-bit ('env': venv)",
   "language": "python",
   "name": "python35264bitenvvenvb6cd531c97784475b4412c7678fc9cef"
  },
  "language_info": {
   "codemirror_mode": {
    "name": "ipython",
    "version": 3
   },
   "file_extension": ".py",
   "mimetype": "text/x-python",
   "name": "python",
   "nbconvert_exporter": "python",
   "pygments_lexer": "ipython3",
   "version": "3.5.2"
  }
 },
 "nbformat": 4,
 "nbformat_minor": 4
}
