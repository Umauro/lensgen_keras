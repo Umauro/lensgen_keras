{
 "cells": [
  {
   "cell_type": "markdown",
   "metadata": {},
   "source": [
    "# Frechet Inception Distance Calculation\n",
    "\n",
    "Este notebook fue utilizado para calcular la distancia de Frechét-Inception, modificada para utilizar la red Lensfinder, utilizada para evaluar la calidad de las imágenes generadas"
   ]
  },
  {
   "cell_type": "code",
   "execution_count": 5,
   "metadata": {},
   "outputs": [],
   "source": [
    "import sys\n",
    "from pathlib import Path\n",
    "\n",
    "# Agregar la carpeta src al Path para poder cargar los métodos y clases necesarias.\n",
    "# También agregamos la carpeta data.\n",
    "src_path = str(Path.cwd().parents[0] / \"src\")\n",
    "\n",
    "if src_path not in sys.path:\n",
    "    sys.path.append(src_path)"
   ]
  },
  {
   "cell_type": "code",
   "execution_count": 6,
   "metadata": {},
   "outputs": [
    {
     "data": {
      "text/html": [
       "<style>.container { width:95% !important; }</style>"
      ],
      "text/plain": [
       "<IPython.core.display.HTML object>"
      ]
     },
     "metadata": {},
     "output_type": "display_data"
    }
   ],
   "source": [
    "from IPython.display import IFrame\n",
    "from IPython.core.display import display, HTML\n",
    "display(HTML(\"<style>.container { width:95% !important; }</style>\"))"
   ]
  },
  {
   "cell_type": "markdown",
   "metadata": {},
   "source": [
    "## Cargar librerías "
   ]
  },
  {
   "cell_type": "code",
   "execution_count": 13,
   "metadata": {},
   "outputs": [],
   "source": [
    "import numpy as np\n",
    "from scipy.linalg import sqrtm\n",
    "from keras import backend as K\n",
    "from keras.models import Model, load_model\n",
    "from experiments import read_experiment_dataset"
   ]
  },
  {
   "cell_type": "markdown",
   "metadata": {},
   "source": [
    "## Frechet Inception Distance"
   ]
  },
  {
   "cell_type": "code",
   "execution_count": 3,
   "metadata": {},
   "outputs": [],
   "source": [
    "def preprocess_images(images):\n",
    "    MEAN = 4.3368545e-13 #precalculated from training dataset\n",
    "    STD = 5.5039e-12 #precalculated from training dataset\n",
    "    images[images == 100] = 0.0\n",
    "    return (images - MEAN) / STD"
   ]
  },
  {
   "cell_type": "code",
   "execution_count": 4,
   "metadata": {},
   "outputs": [],
   "source": [
    "def frechet_lensfinder_distance(model,real_images,synthetic_images):\n",
    "    #preprocess datasets\n",
    "    real_images_scaled = preprocess_images(real_images)\n",
    "    synthetic_images_scaled = preprocess_images(synthetic_images)\n",
    "    \n",
    "    #get activations\n",
    "    real_activations = model.predict(real_images_scaled)\n",
    "    synthetic_activations = model.predict(synthetic_images_scaled)\n",
    "    \n",
    "    #Calculate score\n",
    "    real_mean = real_activations.mean(axis=0)\n",
    "    synthetic_mean = synthetic_activations.mean(axis=0)\n",
    "    real_cov = np.cov(real_activations,rowvar=False)\n",
    "    synthetic_cov = np.cov(synthetic_activations,rowvar=False)\n",
    "    \n",
    "    #Trace elements\n",
    "    squared_cov_dot, error = sqrtm(\n",
    "        synthetic_cov.dot(real_cov),\n",
    "        disp=False\n",
    "    )\n",
    "    if np.iscomplexobj(squared_cov_dot):\n",
    "        squared_cov_dot = squared_cov_dot.real\n",
    "    trace = np.trace(synthetic_cov + real_cov - 2*squared_cov_dot)\n",
    "    \n",
    "    return np.sum((synthetic_mean - real_mean)**2) + trace"
   ]
  },
  {
   "cell_type": "markdown",
   "metadata": {},
   "source": [
    "## Calculo del FID"
   ]
  },
  {
   "cell_type": "code",
   "execution_count": 10,
   "metadata": {},
   "outputs": [],
   "source": [
    "real_lens, df_real_lens = read_experiment_dataset('../data/experiments/real_lens_100_images')\n",
    "synthetic_lens, df_synthetic_lens = read_experiment_dataset('../data/experiments/50_epochs_100_images')"
   ]
  },
  {
   "cell_type": "code",
   "execution_count": 14,
   "metadata": {},
   "outputs": [],
   "source": [
    "#Read classifier model\n",
    "def custom_relu(x):\n",
    "    relu = K.relu(x)\n",
    "    return (relu - 0.3989422804014327) * 1.712858550449663\n",
    "\n",
    "lensfinder_model = load_model('../models/lensfinder/lensfinder_model_val_loss_0.25.hdf5',custom_objects={'custom_relu': custom_relu})\n",
    "lensfinder_model = Model(inputs=lensfinder_model.inputs, outputs=lensfinder_model.layers[-2].output)"
   ]
  },
  {
   "cell_type": "code",
   "execution_count": 15,
   "metadata": {},
   "outputs": [
    {
     "data": {
      "text/plain": [
       "40.27473739979382"
      ]
     },
     "execution_count": 15,
     "metadata": {},
     "output_type": "execute_result"
    }
   ],
   "source": [
    "frechet_lensfinder_distance(lensfinder_model,real_lens,synthetic_lens)"
   ]
  }
 ],
 "metadata": {
  "kernelspec": {
   "display_name": "Python 3.5.2 64-bit ('env': venv)",
   "language": "python",
   "name": "python35264bitenvvenvb6cd531c97784475b4412c7678fc9cef"
  },
  "language_info": {
   "codemirror_mode": {
    "name": "ipython",
    "version": 3
   },
   "file_extension": ".py",
   "mimetype": "text/x-python",
   "name": "python",
   "nbconvert_exporter": "python",
   "pygments_lexer": "ipython3",
   "version": "3.5.2"
  }
 },
 "nbformat": 4,
 "nbformat_minor": 4
}
