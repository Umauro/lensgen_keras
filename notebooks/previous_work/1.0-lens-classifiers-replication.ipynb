{
 "cells": [
  {
   "cell_type": "code",
   "execution_count": 12,
   "metadata": {},
   "outputs": [
    {
     "data": {
      "text/html": [
       "<style>.container { width:95% !important; }</style>"
      ],
      "text/plain": [
       "<IPython.core.display.HTML object>"
      ]
     },
     "metadata": {},
     "output_type": "display_data"
    }
   ],
   "source": [
    "from IPython.display import IFrame\n",
    "from IPython.core.display import display, HTML\n",
    "display(HTML(\"<style>.container { width:95% !important; }</style>\"))"
   ]
  },
  {
   "cell_type": "code",
   "execution_count": 9,
   "metadata": {},
   "outputs": [],
   "source": [
    "import sys\n",
    "from pathlib import Path\n",
    "\n",
    "# Agregar la carpeta src al Path para poder cargar los métodos y clases necesarias.\n",
    "# También agregamos la carpeta data.\n",
    "src_path = str(Path.cwd().parents[1] / \"src\")\n",
    "\n",
    "if src_path not in sys.path:\n",
    "    sys.path.append(src_path) "
   ]
  },
  {
   "cell_type": "markdown",
   "metadata": {},
   "source": [
    "# Lens Classifiers Replication\n",
    "\n",
    "Este notebook fue utilizado para replicar las CNN ganadoras de ambas categorías del Bologna Lens Finding Challenge. Esto fue realizado con el objetivo de encontrar posibles arquitecturas a utilizar en la GAN, como también para ser utilizadas en la evaluación de los resultados.\n",
    "\n",
    "- Space Based\n",
    "~~~\n",
    "Schaefer, C., Geiger, M., Kuntzer, T., y Kneib, J.-P. (2018). Deepconvolutional neural networks as strong gravitational lens detectors.Astronomy &Astrophysics, 611:A2.\n",
    "~~~\n",
    "- Ground Based\n",
    "~~~\n",
    "Lanusse, F., Ma, Q., Li, N., Collett, T. E., Li, C.-L., Ravanbakhsh,S., Mandelbaum, R., y Póczos, B. (2017). Cmu deeplens: deep learning for automatic image-based galaxy–galaxy strong lens finding.Monthly Notices of the RoyalAstronomical Society, 473(3):3895–3906.\n",
    "~~~"
   ]
  },
  {
   "cell_type": "markdown",
   "metadata": {},
   "source": [
    "## Cargar Librerías"
   ]
  },
  {
   "cell_type": "code",
   "execution_count": 2,
   "metadata": {},
   "outputs": [],
   "source": [
    "import numpy as np\n",
    "import pandas as pd\n",
    "import seaborn as sns\n",
    "import matplotlib.pyplot as plt"
   ]
  },
  {
   "cell_type": "code",
   "execution_count": 4,
   "metadata": {
    "scrolled": false
   },
   "outputs": [
    {
     "name": "stderr",
     "output_type": "stream",
     "text": [
      "Using TensorFlow backend.\n"
     ]
    }
   ],
   "source": [
    "from keras.models import Model, load_model\n",
    "from keras.layers import (\n",
    "    Conv2D,\n",
    "    BatchNormalization,\n",
    "    Input,\n",
    "    Activation,\n",
    "    Add,\n",
    "    AveragePooling2D,\n",
    "    Dense,\n",
    "    Flatten,\n",
    "    MaxPooling2D,\n",
    "    Dropout,\n",
    "    GlobalAveragePooling2D\n",
    ")\n",
    "from keras import backend as K\n",
    "from keras.callbacks import LearningRateScheduler, ModelCheckpoint\n",
    "from keras.preprocessing.image import ImageDataGenerator\n",
    "from keras.utils.data_utils import Sequence\n",
    "from keras.initializers import VarianceScaling\n"
   ]
  },
  {
   "cell_type": "code",
   "execution_count": 10,
   "metadata": {},
   "outputs": [],
   "source": [
    "from utils.data import (\n",
    "    read_ground_based_images,\n",
    "    read_space_based_images,\n",
    "    read_space_based_in_chunks,\n",
    "    get_test_predictions\n",
    ")"
   ]
  },
  {
   "cell_type": "code",
   "execution_count": 5,
   "metadata": {},
   "outputs": [],
   "source": [
    "from imblearn.keras import balanced_batch_generator\n",
    "from imblearn.under_sampling import NearMiss"
   ]
  },
  {
   "cell_type": "code",
   "execution_count": 6,
   "metadata": {},
   "outputs": [],
   "source": [
    "from sklearn.model_selection import train_test_split\n",
    "from sklearn.metrics import (\n",
    "    classification_report,\n",
    "    roc_curve,\n",
    "    roc_auc_score,\n",
    "    confusion_matrix\n",
    ")"
   ]
  },
  {
   "cell_type": "code",
   "execution_count": 7,
   "metadata": {},
   "outputs": [],
   "source": [
    "from skimage.transform import rotate"
   ]
  },
  {
   "cell_type": "markdown",
   "metadata": {},
   "source": [
    "## CMU DeepLens (Ground Based)"
   ]
  },
  {
   "cell_type": "markdown",
   "metadata": {},
   "source": [
    "Esta red es una arquitectura de tipo ResNet. Está compuesta por dos tipos de bloques residuales, uno que mantiene las dimensiones de la imagen, mientras que el otro duplica el número de canales, pero disminuyendo las dimensiones a la mitad. Este descenso dimensional se realiza utilizando convoluciones con stride 2. A continuación se presentan las arquitecturas de estos dos tipos de bloques."
   ]
  },
  {
   "cell_type": "markdown",
   "metadata": {},
   "source": [
    "<div class='container'>\n",
    "    <div class='row'>\n",
    "        <div class='col'>\n",
    "            <img src='../../static/resnet16-32.png' style='float:left;'></img>\n",
    "        </div>\n",
    "        <div class='col'>\n",
    "            <img src='../../static/resnet32-62-stride2.png' style='float:right;'></img>\n",
    "        </div>\n",
    "    </div>\n",
    "</div> "
   ]
  },
  {
   "cell_type": "markdown",
   "metadata": {},
   "source": [
    "La arquitectura utilizada utiliza un stack de 15 bloques resnet, 11 que mantienen dimensiones y 4 que presentan stride 2. La primera capa de la arquitectura es una capa convolucional con filtros de 7x7, 32 featuremaps, activación ELU y Batch Normalization. Su capa de salida es fully connected con una neurona con activación sigmoid, esto previamente pasado por un average pooling."
   ]
  },
  {
   "cell_type": "markdown",
   "metadata": {},
   "source": [
    "Los bloques resnet utilizan la _**Exponential Linear Unit**_ (ELU) como función de activación, la cual se define de la siguiente manera."
   ]
  },
  {
   "cell_type": "markdown",
   "metadata": {},
   "source": [
    "$$ \n",
    "f(x)=\n",
    "\\begin{cases}\n",
    "x,  \\hspace{2cm}si \\hspace{0.5cm} x > 0\\\\\n",
    "e^{x - 1}, \\hspace{1.5cm} etoc\\\\\n",
    "\\end{cases}\n",
    "$$"
   ]
  },
  {
   "cell_type": "markdown",
   "metadata": {},
   "source": [
    "En términos de preprocesamiento, realizan una normalización para cada banda de las imágenes. Para esto restan la media de las imágenes desde el set de entrenamiento, para luego normalizar por la desviación estándar del ruido de la banda. También se hace un _clipping_ considerando un rango definido por $k\\sigma$, donde $k$ generalmente tenía el valor de 250. En caso de tener pixeles enmascarados se deja con un valor de 0.\n",
    "\n",
    "Se realiza _data augmentation_, definido por las siguientes operaciones.\n",
    "- Rotaciones en aleatorias en un rango $[-90,90]$.\n",
    "- Flips horizontales y verticales aleatorios.\n",
    "- Zooming aleatorios en un rango $[0.9,1]$.\n",
    "\n",
    "Para el entrenamiento consideran una inicialización de pesos aleatorios, obtenidos desde una distribución normal, utilizan 120 epoch con un minibatch de 128. Adam para el optimizador, con una tasa de aprendizaje de $0.001$, la cual se divide por 10 cada 40 epochs."
   ]
  },
  {
   "cell_type": "markdown",
   "metadata": {},
   "source": [
    "### Implementación"
   ]
  },
  {
   "cell_type": "markdown",
   "metadata": {},
   "source": [
    "#### Cargar datos"
   ]
  },
  {
   "cell_type": "code",
   "execution_count": 8,
   "metadata": {},
   "outputs": [],
   "source": [
    "df = pd.read_csv(\n",
    "    '../../data/ground_based_data/GroundBasedTraining/classifications.csv',\n",
    "    sep=','\n",
    ")\n",
    "df = df.astype({'ID':int})\n",
    "\n",
    "try:\n",
    "    dict_data = np.load('../../data/ground_based_image_data.npz')\n",
    "    # extract the first array\n",
    "    x_train = dict_data['arr_0']\n",
    "except:\n",
    "    path_ground_based = '../../data/ground_based_data/GroundBasedTraining/Public/'\n",
    "    x_train = read_ground_based_images(\n",
    "        path_ground_based,\n",
    "        df\n",
    "    )\n",
    "    np.savez_compressed('../../data/ground_based_image_data.npz', x_train)\n"
   ]
  },
  {
   "cell_type": "markdown",
   "metadata": {},
   "source": [
    "#### Arquitectura"
   ]
  },
  {
   "cell_type": "code",
   "execution_count": 9,
   "metadata": {},
   "outputs": [],
   "source": [
    "def resnet_block(previus_layer,filters):\n",
    "    block = BatchNormalization()(previus_layer)\n",
    "    block = Activation('elu')(block)\n",
    "    block = Conv2D(int(filters/2),(1,1),padding='same',kernel_initializer='he_normal')(block)\n",
    "    block = BatchNormalization()(block)\n",
    "    block = Activation('elu')(block)\n",
    "    block = Conv2D(int(filters/2),(3,3),padding='same',kernel_initializer='he_normal')(block)\n",
    "    block = BatchNormalization()(block)\n",
    "    block = Activation('elu')(block)\n",
    "    block = Conv2D(filters,(1,1),padding='same',kernel_initializer='he_normal')(block)\n",
    "    output = Add()([previus_layer,block]) #join paths\n",
    "    return output"
   ]
  },
  {
   "cell_type": "code",
   "execution_count": 10,
   "metadata": {},
   "outputs": [],
   "source": [
    "def strided_resnet_block(previus_layer,input_filters,output_filters):\n",
    "    batch_norm = BatchNormalization()(previus_layer)\n",
    "    elu_activation = Activation('elu')(batch_norm)\n",
    "    #skip connection\n",
    "    skip_conv = Conv2D(output_filters,(1,1),strides=2,padding='same',kernel_initializer='he_normal')(elu_activation)\n",
    "    #Connected path\n",
    "    block = Conv2D(input_filters,(1,1),strides=2,padding='same',kernel_initializer='he_normal')(elu_activation)\n",
    "    block = BatchNormalization()(block)\n",
    "    block = Activation('elu')(block)\n",
    "    block = Conv2D(input_filters,(3,3),padding='same',kernel_initializer='he_normal')(block)\n",
    "    block = BatchNormalization()(block)\n",
    "    block = Activation('elu')(block)\n",
    "    block = Conv2D(output_filters,(1,1),padding='same',kernel_initializer='he_normal')(block)\n",
    "    #join paths\n",
    "    output = Add()([skip_conv,block])\n",
    "    return output"
   ]
  },
  {
   "cell_type": "code",
   "execution_count": 11,
   "metadata": {},
   "outputs": [],
   "source": [
    "def build_deeplens_classifier(input_shape):\n",
    "    input_layer = Input(shape=input_shape)\n",
    "    #first convolutional blocks\n",
    "    initial_conv = Conv2D(32,(7,7),padding='same')(input_layer)\n",
    "    initial_conv = Activation('elu')(initial_conv)\n",
    "    initial_conv = BatchNormalization()(initial_conv)\n",
    "    #stack of resnet blocks\n",
    "    resnet = resnet_block(initial_conv,32)\n",
    "    resnet = resnet_block(resnet,32)\n",
    "    resnet = resnet_block(resnet,32)\n",
    "    resnet = strided_resnet_block(resnet,32,64)\n",
    "    resnet = resnet_block(resnet,64)\n",
    "    resnet = resnet_block(resnet,64)\n",
    "    resnet = strided_resnet_block(resnet,64,128)\n",
    "    resnet = resnet_block(resnet,128)\n",
    "    resnet = resnet_block(resnet,128)\n",
    "    resnet = strided_resnet_block(resnet,128,256)\n",
    "    resnet = resnet_block(resnet,256)\n",
    "    resnet = resnet_block(resnet,256)\n",
    "    resnet = strided_resnet_block(resnet,256,512)\n",
    "    resnet = resnet_block(resnet,512)\n",
    "    resnet = resnet_block(resnet,512)\n",
    "    \n",
    "    avg_pool = GlobalAveragePooling2D()(resnet)\n",
    "    dense = Dense(1,activation='sigmoid', kernel_initializer='he_normal')(avg_pool)\n",
    "    model = Model(input_layer,dense)\n",
    "    model.summary()\n",
    "    model.compile(loss='binary_crossentropy',optimizer='adam',metrics = ['accuracy'])\n",
    "    return model\n",
    "    "
   ]
  },
  {
   "cell_type": "code",
   "execution_count": 12,
   "metadata": {
    "scrolled": false
   },
   "outputs": [
    {
     "name": "stdout",
     "output_type": "stream",
     "text": [
      "Model: \"model_1\"\n",
      "__________________________________________________________________________________________________\n",
      "Layer (type)                    Output Shape         Param #     Connected to                     \n",
      "==================================================================================================\n",
      "input_1 (InputLayer)            (None, 101, 101, 4)  0                                            \n",
      "__________________________________________________________________________________________________\n",
      "conv2d_1 (Conv2D)               (None, 101, 101, 32) 6304        input_1[0][0]                    \n",
      "__________________________________________________________________________________________________\n",
      "activation_1 (Activation)       (None, 101, 101, 32) 0           conv2d_1[0][0]                   \n",
      "__________________________________________________________________________________________________\n",
      "batch_normalization_1 (BatchNor (None, 101, 101, 32) 128         activation_1[0][0]               \n",
      "__________________________________________________________________________________________________\n",
      "batch_normalization_2 (BatchNor (None, 101, 101, 32) 128         batch_normalization_1[0][0]      \n",
      "__________________________________________________________________________________________________\n",
      "activation_2 (Activation)       (None, 101, 101, 32) 0           batch_normalization_2[0][0]      \n",
      "__________________________________________________________________________________________________\n",
      "conv2d_2 (Conv2D)               (None, 101, 101, 16) 528         activation_2[0][0]               \n",
      "__________________________________________________________________________________________________\n",
      "batch_normalization_3 (BatchNor (None, 101, 101, 16) 64          conv2d_2[0][0]                   \n",
      "__________________________________________________________________________________________________\n",
      "activation_3 (Activation)       (None, 101, 101, 16) 0           batch_normalization_3[0][0]      \n",
      "__________________________________________________________________________________________________\n",
      "conv2d_3 (Conv2D)               (None, 101, 101, 16) 2320        activation_3[0][0]               \n",
      "__________________________________________________________________________________________________\n",
      "batch_normalization_4 (BatchNor (None, 101, 101, 16) 64          conv2d_3[0][0]                   \n",
      "__________________________________________________________________________________________________\n",
      "activation_4 (Activation)       (None, 101, 101, 16) 0           batch_normalization_4[0][0]      \n",
      "__________________________________________________________________________________________________\n",
      "conv2d_4 (Conv2D)               (None, 101, 101, 32) 544         activation_4[0][0]               \n",
      "__________________________________________________________________________________________________\n",
      "add_1 (Add)                     (None, 101, 101, 32) 0           batch_normalization_1[0][0]      \n",
      "                                                                 conv2d_4[0][0]                   \n",
      "__________________________________________________________________________________________________\n",
      "batch_normalization_5 (BatchNor (None, 101, 101, 32) 128         add_1[0][0]                      \n",
      "__________________________________________________________________________________________________\n",
      "activation_5 (Activation)       (None, 101, 101, 32) 0           batch_normalization_5[0][0]      \n",
      "__________________________________________________________________________________________________\n",
      "conv2d_5 (Conv2D)               (None, 101, 101, 16) 528         activation_5[0][0]               \n",
      "__________________________________________________________________________________________________\n",
      "batch_normalization_6 (BatchNor (None, 101, 101, 16) 64          conv2d_5[0][0]                   \n",
      "__________________________________________________________________________________________________\n",
      "activation_6 (Activation)       (None, 101, 101, 16) 0           batch_normalization_6[0][0]      \n",
      "__________________________________________________________________________________________________\n",
      "conv2d_6 (Conv2D)               (None, 101, 101, 16) 2320        activation_6[0][0]               \n",
      "__________________________________________________________________________________________________\n",
      "batch_normalization_7 (BatchNor (None, 101, 101, 16) 64          conv2d_6[0][0]                   \n",
      "__________________________________________________________________________________________________\n",
      "activation_7 (Activation)       (None, 101, 101, 16) 0           batch_normalization_7[0][0]      \n",
      "__________________________________________________________________________________________________\n",
      "conv2d_7 (Conv2D)               (None, 101, 101, 32) 544         activation_7[0][0]               \n",
      "__________________________________________________________________________________________________\n",
      "add_2 (Add)                     (None, 101, 101, 32) 0           add_1[0][0]                      \n",
      "                                                                 conv2d_7[0][0]                   \n",
      "__________________________________________________________________________________________________\n",
      "batch_normalization_8 (BatchNor (None, 101, 101, 32) 128         add_2[0][0]                      \n",
      "__________________________________________________________________________________________________\n",
      "activation_8 (Activation)       (None, 101, 101, 32) 0           batch_normalization_8[0][0]      \n",
      "__________________________________________________________________________________________________\n",
      "conv2d_8 (Conv2D)               (None, 101, 101, 16) 528         activation_8[0][0]               \n",
      "__________________________________________________________________________________________________\n",
      "batch_normalization_9 (BatchNor (None, 101, 101, 16) 64          conv2d_8[0][0]                   \n",
      "__________________________________________________________________________________________________\n",
      "activation_9 (Activation)       (None, 101, 101, 16) 0           batch_normalization_9[0][0]      \n",
      "__________________________________________________________________________________________________\n",
      "conv2d_9 (Conv2D)               (None, 101, 101, 16) 2320        activation_9[0][0]               \n",
      "__________________________________________________________________________________________________\n",
      "batch_normalization_10 (BatchNo (None, 101, 101, 16) 64          conv2d_9[0][0]                   \n",
      "__________________________________________________________________________________________________\n",
      "activation_10 (Activation)      (None, 101, 101, 16) 0           batch_normalization_10[0][0]     \n",
      "__________________________________________________________________________________________________\n",
      "conv2d_10 (Conv2D)              (None, 101, 101, 32) 544         activation_10[0][0]              \n",
      "__________________________________________________________________________________________________\n",
      "add_3 (Add)                     (None, 101, 101, 32) 0           add_2[0][0]                      \n",
      "                                                                 conv2d_10[0][0]                  \n",
      "__________________________________________________________________________________________________\n",
      "batch_normalization_11 (BatchNo (None, 101, 101, 32) 128         add_3[0][0]                      \n",
      "__________________________________________________________________________________________________\n",
      "activation_11 (Activation)      (None, 101, 101, 32) 0           batch_normalization_11[0][0]     \n",
      "__________________________________________________________________________________________________\n",
      "conv2d_12 (Conv2D)              (None, 51, 51, 32)   1056        activation_11[0][0]              \n",
      "__________________________________________________________________________________________________\n",
      "batch_normalization_12 (BatchNo (None, 51, 51, 32)   128         conv2d_12[0][0]                  \n",
      "__________________________________________________________________________________________________\n",
      "activation_12 (Activation)      (None, 51, 51, 32)   0           batch_normalization_12[0][0]     \n",
      "__________________________________________________________________________________________________\n",
      "conv2d_13 (Conv2D)              (None, 51, 51, 32)   9248        activation_12[0][0]              \n",
      "__________________________________________________________________________________________________\n",
      "batch_normalization_13 (BatchNo (None, 51, 51, 32)   128         conv2d_13[0][0]                  \n",
      "__________________________________________________________________________________________________\n",
      "activation_13 (Activation)      (None, 51, 51, 32)   0           batch_normalization_13[0][0]     \n",
      "__________________________________________________________________________________________________\n",
      "conv2d_11 (Conv2D)              (None, 51, 51, 64)   2112        activation_11[0][0]              \n",
      "__________________________________________________________________________________________________\n",
      "conv2d_14 (Conv2D)              (None, 51, 51, 64)   2112        activation_13[0][0]              \n",
      "__________________________________________________________________________________________________\n",
      "add_4 (Add)                     (None, 51, 51, 64)   0           conv2d_11[0][0]                  \n",
      "                                                                 conv2d_14[0][0]                  \n",
      "__________________________________________________________________________________________________\n",
      "batch_normalization_14 (BatchNo (None, 51, 51, 64)   256         add_4[0][0]                      \n",
      "__________________________________________________________________________________________________\n",
      "activation_14 (Activation)      (None, 51, 51, 64)   0           batch_normalization_14[0][0]     \n",
      "__________________________________________________________________________________________________\n",
      "conv2d_15 (Conv2D)              (None, 51, 51, 32)   2080        activation_14[0][0]              \n",
      "__________________________________________________________________________________________________\n",
      "batch_normalization_15 (BatchNo (None, 51, 51, 32)   128         conv2d_15[0][0]                  \n",
      "__________________________________________________________________________________________________\n",
      "activation_15 (Activation)      (None, 51, 51, 32)   0           batch_normalization_15[0][0]     \n",
      "__________________________________________________________________________________________________\n",
      "conv2d_16 (Conv2D)              (None, 51, 51, 32)   9248        activation_15[0][0]              \n",
      "__________________________________________________________________________________________________\n",
      "batch_normalization_16 (BatchNo (None, 51, 51, 32)   128         conv2d_16[0][0]                  \n",
      "__________________________________________________________________________________________________\n",
      "activation_16 (Activation)      (None, 51, 51, 32)   0           batch_normalization_16[0][0]     \n",
      "__________________________________________________________________________________________________\n",
      "conv2d_17 (Conv2D)              (None, 51, 51, 64)   2112        activation_16[0][0]              \n",
      "__________________________________________________________________________________________________\n",
      "add_5 (Add)                     (None, 51, 51, 64)   0           add_4[0][0]                      \n",
      "                                                                 conv2d_17[0][0]                  \n",
      "__________________________________________________________________________________________________\n",
      "batch_normalization_17 (BatchNo (None, 51, 51, 64)   256         add_5[0][0]                      \n",
      "__________________________________________________________________________________________________\n",
      "activation_17 (Activation)      (None, 51, 51, 64)   0           batch_normalization_17[0][0]     \n",
      "__________________________________________________________________________________________________\n",
      "conv2d_18 (Conv2D)              (None, 51, 51, 32)   2080        activation_17[0][0]              \n",
      "__________________________________________________________________________________________________\n",
      "batch_normalization_18 (BatchNo (None, 51, 51, 32)   128         conv2d_18[0][0]                  \n",
      "__________________________________________________________________________________________________\n",
      "activation_18 (Activation)      (None, 51, 51, 32)   0           batch_normalization_18[0][0]     \n",
      "__________________________________________________________________________________________________\n",
      "conv2d_19 (Conv2D)              (None, 51, 51, 32)   9248        activation_18[0][0]              \n",
      "__________________________________________________________________________________________________\n",
      "batch_normalization_19 (BatchNo (None, 51, 51, 32)   128         conv2d_19[0][0]                  \n",
      "__________________________________________________________________________________________________\n",
      "activation_19 (Activation)      (None, 51, 51, 32)   0           batch_normalization_19[0][0]     \n",
      "__________________________________________________________________________________________________\n",
      "conv2d_20 (Conv2D)              (None, 51, 51, 64)   2112        activation_19[0][0]              \n",
      "__________________________________________________________________________________________________\n",
      "add_6 (Add)                     (None, 51, 51, 64)   0           add_5[0][0]                      \n",
      "                                                                 conv2d_20[0][0]                  \n",
      "__________________________________________________________________________________________________\n",
      "batch_normalization_20 (BatchNo (None, 51, 51, 64)   256         add_6[0][0]                      \n",
      "__________________________________________________________________________________________________\n",
      "activation_20 (Activation)      (None, 51, 51, 64)   0           batch_normalization_20[0][0]     \n",
      "__________________________________________________________________________________________________\n",
      "conv2d_22 (Conv2D)              (None, 26, 26, 64)   4160        activation_20[0][0]              \n",
      "__________________________________________________________________________________________________\n",
      "batch_normalization_21 (BatchNo (None, 26, 26, 64)   256         conv2d_22[0][0]                  \n",
      "__________________________________________________________________________________________________\n",
      "activation_21 (Activation)      (None, 26, 26, 64)   0           batch_normalization_21[0][0]     \n",
      "__________________________________________________________________________________________________\n",
      "conv2d_23 (Conv2D)              (None, 26, 26, 64)   36928       activation_21[0][0]              \n",
      "__________________________________________________________________________________________________\n",
      "batch_normalization_22 (BatchNo (None, 26, 26, 64)   256         conv2d_23[0][0]                  \n",
      "__________________________________________________________________________________________________\n",
      "activation_22 (Activation)      (None, 26, 26, 64)   0           batch_normalization_22[0][0]     \n",
      "__________________________________________________________________________________________________\n",
      "conv2d_21 (Conv2D)              (None, 26, 26, 128)  8320        activation_20[0][0]              \n",
      "__________________________________________________________________________________________________\n",
      "conv2d_24 (Conv2D)              (None, 26, 26, 128)  8320        activation_22[0][0]              \n",
      "__________________________________________________________________________________________________\n",
      "add_7 (Add)                     (None, 26, 26, 128)  0           conv2d_21[0][0]                  \n",
      "                                                                 conv2d_24[0][0]                  \n",
      "__________________________________________________________________________________________________\n",
      "batch_normalization_23 (BatchNo (None, 26, 26, 128)  512         add_7[0][0]                      \n",
      "__________________________________________________________________________________________________\n",
      "activation_23 (Activation)      (None, 26, 26, 128)  0           batch_normalization_23[0][0]     \n",
      "__________________________________________________________________________________________________\n",
      "conv2d_25 (Conv2D)              (None, 26, 26, 64)   8256        activation_23[0][0]              \n",
      "__________________________________________________________________________________________________\n",
      "batch_normalization_24 (BatchNo (None, 26, 26, 64)   256         conv2d_25[0][0]                  \n",
      "__________________________________________________________________________________________________\n",
      "activation_24 (Activation)      (None, 26, 26, 64)   0           batch_normalization_24[0][0]     \n",
      "__________________________________________________________________________________________________\n",
      "conv2d_26 (Conv2D)              (None, 26, 26, 64)   36928       activation_24[0][0]              \n",
      "__________________________________________________________________________________________________\n",
      "batch_normalization_25 (BatchNo (None, 26, 26, 64)   256         conv2d_26[0][0]                  \n",
      "__________________________________________________________________________________________________\n",
      "activation_25 (Activation)      (None, 26, 26, 64)   0           batch_normalization_25[0][0]     \n",
      "__________________________________________________________________________________________________\n",
      "conv2d_27 (Conv2D)              (None, 26, 26, 128)  8320        activation_25[0][0]              \n",
      "__________________________________________________________________________________________________\n",
      "add_8 (Add)                     (None, 26, 26, 128)  0           add_7[0][0]                      \n",
      "                                                                 conv2d_27[0][0]                  \n",
      "__________________________________________________________________________________________________\n",
      "batch_normalization_26 (BatchNo (None, 26, 26, 128)  512         add_8[0][0]                      \n",
      "__________________________________________________________________________________________________\n",
      "activation_26 (Activation)      (None, 26, 26, 128)  0           batch_normalization_26[0][0]     \n",
      "__________________________________________________________________________________________________\n",
      "conv2d_28 (Conv2D)              (None, 26, 26, 64)   8256        activation_26[0][0]              \n",
      "__________________________________________________________________________________________________\n",
      "batch_normalization_27 (BatchNo (None, 26, 26, 64)   256         conv2d_28[0][0]                  \n",
      "__________________________________________________________________________________________________\n",
      "activation_27 (Activation)      (None, 26, 26, 64)   0           batch_normalization_27[0][0]     \n",
      "__________________________________________________________________________________________________\n",
      "conv2d_29 (Conv2D)              (None, 26, 26, 64)   36928       activation_27[0][0]              \n",
      "__________________________________________________________________________________________________\n",
      "batch_normalization_28 (BatchNo (None, 26, 26, 64)   256         conv2d_29[0][0]                  \n",
      "__________________________________________________________________________________________________\n",
      "activation_28 (Activation)      (None, 26, 26, 64)   0           batch_normalization_28[0][0]     \n",
      "__________________________________________________________________________________________________\n",
      "conv2d_30 (Conv2D)              (None, 26, 26, 128)  8320        activation_28[0][0]              \n",
      "__________________________________________________________________________________________________\n",
      "add_9 (Add)                     (None, 26, 26, 128)  0           add_8[0][0]                      \n",
      "                                                                 conv2d_30[0][0]                  \n",
      "__________________________________________________________________________________________________\n",
      "batch_normalization_29 (BatchNo (None, 26, 26, 128)  512         add_9[0][0]                      \n",
      "__________________________________________________________________________________________________\n",
      "activation_29 (Activation)      (None, 26, 26, 128)  0           batch_normalization_29[0][0]     \n",
      "__________________________________________________________________________________________________\n",
      "conv2d_32 (Conv2D)              (None, 13, 13, 128)  16512       activation_29[0][0]              \n",
      "__________________________________________________________________________________________________\n",
      "batch_normalization_30 (BatchNo (None, 13, 13, 128)  512         conv2d_32[0][0]                  \n",
      "__________________________________________________________________________________________________\n",
      "activation_30 (Activation)      (None, 13, 13, 128)  0           batch_normalization_30[0][0]     \n",
      "__________________________________________________________________________________________________\n",
      "conv2d_33 (Conv2D)              (None, 13, 13, 128)  147584      activation_30[0][0]              \n",
      "__________________________________________________________________________________________________\n",
      "batch_normalization_31 (BatchNo (None, 13, 13, 128)  512         conv2d_33[0][0]                  \n",
      "__________________________________________________________________________________________________\n",
      "activation_31 (Activation)      (None, 13, 13, 128)  0           batch_normalization_31[0][0]     \n",
      "__________________________________________________________________________________________________\n",
      "conv2d_31 (Conv2D)              (None, 13, 13, 256)  33024       activation_29[0][0]              \n",
      "__________________________________________________________________________________________________\n",
      "conv2d_34 (Conv2D)              (None, 13, 13, 256)  33024       activation_31[0][0]              \n",
      "__________________________________________________________________________________________________\n",
      "add_10 (Add)                    (None, 13, 13, 256)  0           conv2d_31[0][0]                  \n",
      "                                                                 conv2d_34[0][0]                  \n",
      "__________________________________________________________________________________________________\n",
      "batch_normalization_32 (BatchNo (None, 13, 13, 256)  1024        add_10[0][0]                     \n",
      "__________________________________________________________________________________________________\n",
      "activation_32 (Activation)      (None, 13, 13, 256)  0           batch_normalization_32[0][0]     \n",
      "__________________________________________________________________________________________________\n",
      "conv2d_35 (Conv2D)              (None, 13, 13, 128)  32896       activation_32[0][0]              \n",
      "__________________________________________________________________________________________________\n",
      "batch_normalization_33 (BatchNo (None, 13, 13, 128)  512         conv2d_35[0][0]                  \n",
      "__________________________________________________________________________________________________\n",
      "activation_33 (Activation)      (None, 13, 13, 128)  0           batch_normalization_33[0][0]     \n",
      "__________________________________________________________________________________________________\n",
      "conv2d_36 (Conv2D)              (None, 13, 13, 128)  147584      activation_33[0][0]              \n",
      "__________________________________________________________________________________________________\n",
      "batch_normalization_34 (BatchNo (None, 13, 13, 128)  512         conv2d_36[0][0]                  \n",
      "__________________________________________________________________________________________________\n",
      "activation_34 (Activation)      (None, 13, 13, 128)  0           batch_normalization_34[0][0]     \n",
      "__________________________________________________________________________________________________\n",
      "conv2d_37 (Conv2D)              (None, 13, 13, 256)  33024       activation_34[0][0]              \n",
      "__________________________________________________________________________________________________\n",
      "add_11 (Add)                    (None, 13, 13, 256)  0           add_10[0][0]                     \n",
      "                                                                 conv2d_37[0][0]                  \n",
      "__________________________________________________________________________________________________\n",
      "batch_normalization_35 (BatchNo (None, 13, 13, 256)  1024        add_11[0][0]                     \n",
      "__________________________________________________________________________________________________\n",
      "activation_35 (Activation)      (None, 13, 13, 256)  0           batch_normalization_35[0][0]     \n",
      "__________________________________________________________________________________________________\n",
      "conv2d_38 (Conv2D)              (None, 13, 13, 128)  32896       activation_35[0][0]              \n",
      "__________________________________________________________________________________________________\n",
      "batch_normalization_36 (BatchNo (None, 13, 13, 128)  512         conv2d_38[0][0]                  \n",
      "__________________________________________________________________________________________________\n",
      "activation_36 (Activation)      (None, 13, 13, 128)  0           batch_normalization_36[0][0]     \n",
      "__________________________________________________________________________________________________\n",
      "conv2d_39 (Conv2D)              (None, 13, 13, 128)  147584      activation_36[0][0]              \n",
      "__________________________________________________________________________________________________\n",
      "batch_normalization_37 (BatchNo (None, 13, 13, 128)  512         conv2d_39[0][0]                  \n",
      "__________________________________________________________________________________________________\n",
      "activation_37 (Activation)      (None, 13, 13, 128)  0           batch_normalization_37[0][0]     \n",
      "__________________________________________________________________________________________________\n",
      "conv2d_40 (Conv2D)              (None, 13, 13, 256)  33024       activation_37[0][0]              \n",
      "__________________________________________________________________________________________________\n",
      "add_12 (Add)                    (None, 13, 13, 256)  0           add_11[0][0]                     \n",
      "                                                                 conv2d_40[0][0]                  \n",
      "__________________________________________________________________________________________________\n",
      "batch_normalization_38 (BatchNo (None, 13, 13, 256)  1024        add_12[0][0]                     \n",
      "__________________________________________________________________________________________________\n",
      "activation_38 (Activation)      (None, 13, 13, 256)  0           batch_normalization_38[0][0]     \n",
      "__________________________________________________________________________________________________\n",
      "conv2d_42 (Conv2D)              (None, 7, 7, 256)    65792       activation_38[0][0]              \n",
      "__________________________________________________________________________________________________\n",
      "batch_normalization_39 (BatchNo (None, 7, 7, 256)    1024        conv2d_42[0][0]                  \n",
      "__________________________________________________________________________________________________\n",
      "activation_39 (Activation)      (None, 7, 7, 256)    0           batch_normalization_39[0][0]     \n",
      "__________________________________________________________________________________________________\n",
      "conv2d_43 (Conv2D)              (None, 7, 7, 256)    590080      activation_39[0][0]              \n",
      "__________________________________________________________________________________________________\n",
      "batch_normalization_40 (BatchNo (None, 7, 7, 256)    1024        conv2d_43[0][0]                  \n",
      "__________________________________________________________________________________________________\n",
      "activation_40 (Activation)      (None, 7, 7, 256)    0           batch_normalization_40[0][0]     \n",
      "__________________________________________________________________________________________________\n",
      "conv2d_41 (Conv2D)              (None, 7, 7, 512)    131584      activation_38[0][0]              \n",
      "__________________________________________________________________________________________________\n",
      "conv2d_44 (Conv2D)              (None, 7, 7, 512)    131584      activation_40[0][0]              \n",
      "__________________________________________________________________________________________________\n",
      "add_13 (Add)                    (None, 7, 7, 512)    0           conv2d_41[0][0]                  \n",
      "                                                                 conv2d_44[0][0]                  \n",
      "__________________________________________________________________________________________________\n",
      "batch_normalization_41 (BatchNo (None, 7, 7, 512)    2048        add_13[0][0]                     \n",
      "__________________________________________________________________________________________________\n",
      "activation_41 (Activation)      (None, 7, 7, 512)    0           batch_normalization_41[0][0]     \n",
      "__________________________________________________________________________________________________\n",
      "conv2d_45 (Conv2D)              (None, 7, 7, 256)    131328      activation_41[0][0]              \n",
      "__________________________________________________________________________________________________\n",
      "batch_normalization_42 (BatchNo (None, 7, 7, 256)    1024        conv2d_45[0][0]                  \n",
      "__________________________________________________________________________________________________\n",
      "activation_42 (Activation)      (None, 7, 7, 256)    0           batch_normalization_42[0][0]     \n",
      "__________________________________________________________________________________________________\n",
      "conv2d_46 (Conv2D)              (None, 7, 7, 256)    590080      activation_42[0][0]              \n",
      "__________________________________________________________________________________________________\n",
      "batch_normalization_43 (BatchNo (None, 7, 7, 256)    1024        conv2d_46[0][0]                  \n",
      "__________________________________________________________________________________________________\n",
      "activation_43 (Activation)      (None, 7, 7, 256)    0           batch_normalization_43[0][0]     \n",
      "__________________________________________________________________________________________________\n",
      "conv2d_47 (Conv2D)              (None, 7, 7, 512)    131584      activation_43[0][0]              \n",
      "__________________________________________________________________________________________________\n",
      "add_14 (Add)                    (None, 7, 7, 512)    0           add_13[0][0]                     \n",
      "                                                                 conv2d_47[0][0]                  \n",
      "__________________________________________________________________________________________________\n",
      "batch_normalization_44 (BatchNo (None, 7, 7, 512)    2048        add_14[0][0]                     \n",
      "__________________________________________________________________________________________________\n",
      "activation_44 (Activation)      (None, 7, 7, 512)    0           batch_normalization_44[0][0]     \n",
      "__________________________________________________________________________________________________\n",
      "conv2d_48 (Conv2D)              (None, 7, 7, 256)    131328      activation_44[0][0]              \n",
      "__________________________________________________________________________________________________\n",
      "batch_normalization_45 (BatchNo (None, 7, 7, 256)    1024        conv2d_48[0][0]                  \n",
      "__________________________________________________________________________________________________\n",
      "activation_45 (Activation)      (None, 7, 7, 256)    0           batch_normalization_45[0][0]     \n",
      "__________________________________________________________________________________________________\n",
      "conv2d_49 (Conv2D)              (None, 7, 7, 256)    590080      activation_45[0][0]              \n",
      "__________________________________________________________________________________________________\n",
      "batch_normalization_46 (BatchNo (None, 7, 7, 256)    1024        conv2d_49[0][0]                  \n",
      "__________________________________________________________________________________________________\n",
      "activation_46 (Activation)      (None, 7, 7, 256)    0           batch_normalization_46[0][0]     \n",
      "__________________________________________________________________________________________________\n",
      "conv2d_50 (Conv2D)              (None, 7, 7, 512)    131584      activation_46[0][0]              \n",
      "__________________________________________________________________________________________________\n",
      "add_15 (Add)                    (None, 7, 7, 512)    0           add_14[0][0]                     \n",
      "                                                                 conv2d_50[0][0]                  \n",
      "__________________________________________________________________________________________________\n",
      "global_average_pooling2d_1 (Glo (None, 512)          0           add_15[0][0]                     \n",
      "__________________________________________________________________________________________________\n",
      "dense_1 (Dense)                 (None, 1)            513         global_average_pooling2d_1[0][0] \n",
      "==================================================================================================\n",
      "Total params: 3,527,329\n",
      "Trainable params: 3,516,321\n",
      "Non-trainable params: 11,008\n",
      "__________________________________________________________________________________________________\n"
     ]
    }
   ],
   "source": [
    "model = build_deeplens_classifier((101,101,4))"
   ]
  },
  {
   "cell_type": "markdown",
   "metadata": {},
   "source": [
    "#### Preprocesamiento"
   ]
  },
  {
   "cell_type": "code",
   "execution_count": 13,
   "metadata": {},
   "outputs": [],
   "source": [
    "y = df['is_lens'].values\n",
    "x_train, x_val, y_train, y_val = train_test_split(x_train,y,test_size=0.2,random_state=42,stratify=y)"
   ]
  },
  {
   "cell_type": "code",
   "execution_count": 14,
   "metadata": {},
   "outputs": [
    {
     "name": "stdout",
     "output_type": "stream",
     "text": [
      "x_train shape: (16000, 101, 101, 4)\n",
      "x_val shape: (4000, 101, 101, 4)\n",
      "y_train shape: (16000,)\n",
      "y_train shape: (4000,)\n"
     ]
    }
   ],
   "source": [
    "print(\"x_train shape: {}\".format(x_train.shape))\n",
    "print(\"x_val shape: {}\".format(x_val.shape))\n",
    "print(\"y_train shape: {}\".format(y_train.shape))\n",
    "print(\"y_train shape: {}\".format(y_val.shape))"
   ]
  },
  {
   "cell_type": "markdown",
   "metadata": {},
   "source": [
    "Para esta fase se utilizará el mismo pre-procesamiento utilizado en el [notebook](https://github.com/McWilliamsCenter/CMUDeepLens/blob/master/notebooks/BLF_GroundBased.ipynb) publicado por los autores. Leí el paper y es el mismo procedimiento, salvo que ingresan el $\\sigma$ a mano, colocandole un valor de 100.\n",
    "\n",
    "Por problemas momentaneos de ram voy a cambiar la manera de escalar."
   ]
  },
  {
   "cell_type": "code",
   "execution_count": null,
   "metadata": {},
   "outputs": [],
   "source": [
    "#vmin=-1e-9\n",
    "#vmax=1e-9\n",
    "#scale=100\n",
    "\n",
    "mask = (x_train == 100)\n",
    "mask_val = (x_val == 100)\n",
    "\n",
    "x_train[mask] = 0\n",
    "x_val[mask_val] = 0\n",
    "\n",
    "# Simple clipping and rescaling the images\n",
    "\n",
    "#x_train = np.clip(x_train, vmin, vmax)/vmax * scale\n",
    "#x_val = np.clip(x_val, vmin, vmax)/vmax * scale \n",
    "TRAIN_MEAN = x_train.mean()\n",
    "TRAIN_STD = x_train.std()\n",
    "\n",
    "x_train = (x_train - TRAIN_MEAN)/TRAIN_STD\n",
    "x_val = (x_val - TRAIN_MEAN)/TRAIN_STD\n",
    "\n",
    "x_train[mask] = 0\n",
    "x_val[mask_val] = 0"
   ]
  },
  {
   "cell_type": "markdown",
   "metadata": {},
   "source": [
    "#### Entrenamiento\n",
    "\n",
    "No logré entrenar esta arquitectura, principalmente porque no tengo suficiente memoria en mi GPU (Nvidia GTX 1050). En algún momento me gustaría entrenarla para ver si logré replicarla correctamente."
   ]
  },
  {
   "cell_type": "code",
   "execution_count": null,
   "metadata": {},
   "outputs": [],
   "source": [
    "def lr_scheduler(epoch, lr=0.001):\n",
    "    if epoch%40 == 0:\n",
    "        return lr / 10\n",
    "    else:\n",
    "        return lr"
   ]
  },
  {
   "cell_type": "code",
   "execution_count": null,
   "metadata": {},
   "outputs": [],
   "source": [
    "#Data Augmentation\n",
    "datagen = ImageDataGenerator(\n",
    "    horizontal_flip = True,\n",
    "    vertical_flip = True,\n",
    "    rotation_range = 90,\n",
    "    zoom_range = [0.9,1]\n",
    ")"
   ]
  },
  {
   "cell_type": "code",
   "execution_count": null,
   "metadata": {
    "scrolled": false
   },
   "outputs": [],
   "source": [
    "train_history = model.fit_generator(\n",
    "        datagen.flow(\n",
    "            x_train,\n",
    "            y_train,\n",
    "            batch_size=32\n",
    "        ),\n",
    "        steps_per_epoch=len(x_train) / 32,\n",
    "        epochs=120,\n",
    "        validation_data=(x_val, y_val),\n",
    "        callbacks=[\n",
    "            LearningRateScheduler(lr_scheduler),\n",
    "            ModelCheckpoint(\n",
    "                './models/CMU/cmu_{val_loss:.2f}.hdf5',\n",
    "                monitor='val_loss',\n",
    "                save_best_only=True)\n",
    "        ]\n",
    "    )"
   ]
  },
  {
   "cell_type": "markdown",
   "metadata": {},
   "source": [
    "#### Evaluación"
   ]
  },
  {
   "cell_type": "markdown",
   "metadata": {},
   "source": [
    "## LensFinder (Space Based)"
   ]
  },
  {
   "cell_type": "markdown",
   "metadata": {},
   "source": [
    "En este paper pruebas varios tipos de arquitectura, pero la que utilizan para el challenge es la más simple de todas ellas. Está compuesta por bloques convolucionales que tienen dos capas convolucionales, seguidas de capas de max pooling y de batch normalization. A diferencia de las arquitecturas anteriores, esta arquitectura cuenta con capas densas al final, utilizando también capas dropout."
   ]
  },
  {
   "cell_type": "markdown",
   "metadata": {},
   "source": [
    "<img src='../../static/lensfinder_baseline.png' style='float:center;'></img>"
   ]
  },
  {
   "cell_type": "markdown",
   "metadata": {},
   "source": [
    "### Implementación"
   ]
  },
  {
   "cell_type": "markdown",
   "metadata": {},
   "source": [
    "#### Cargar datos"
   ]
  },
  {
   "cell_type": "code",
   "execution_count": 8,
   "metadata": {},
   "outputs": [],
   "source": [
    "df_space = pd.read_csv(\n",
    "    '../../data/space_based_data/SpaceBasedTraining/classifications.csv',\n",
    "    sep=','\n",
    ")\n",
    "df_space = df_space.astype({'ID':int})\n",
    "\n",
    "try:\n",
    "    dict_data = np.load('../../data/space_based_image_data.npz')\n",
    "    # extract the first array\n",
    "    space_based_lens_images = dict_data['arr_0']\n",
    "except:\n",
    "    path_space_based = '../../data/space_based_data/SpaceBasedTraining/Public/Band1/'\n",
    "    space_based_lens_images = read_space_based_images(\n",
    "        path_space_based,\n",
    "        df_space\n",
    "    )\n",
    "    np.savez_compressed('../../data/space_based_image_data.npz', space_based_lens_images)"
   ]
  },
  {
   "cell_type": "markdown",
   "metadata": {},
   "source": [
    "#### Arquitectura"
   ]
  },
  {
   "cell_type": "code",
   "execution_count": 10,
   "metadata": {},
   "outputs": [],
   "source": [
    "def custom_relu(x):\n",
    "    relu = K.relu(x)\n",
    "    return (relu - 0.3989422804014327) * 1.712858550449663\n"
   ]
  },
  {
   "cell_type": "code",
   "execution_count": 11,
   "metadata": {},
   "outputs": [],
   "source": [
    "def build_conv_block(previus_layer,filters,first_block=False):\n",
    "    if first_block:\n",
    "        block = Conv2D(filters,(4,4),activation=custom_relu,kernel_initializer=VarianceScaling())(previus_layer)\n",
    "    else:\n",
    "        block = Conv2D(filters,(3,3),activation=custom_relu,kernel_initializer=VarianceScaling())(previus_layer)\n",
    "    block = Conv2D(filters,(3,3),activation=custom_relu,kernel_initializer=VarianceScaling())(block)\n",
    "    block = MaxPooling2D()(block)\n",
    "    block = BatchNormalization()(block)\n",
    "    return block"
   ]
  },
  {
   "cell_type": "code",
   "execution_count": 12,
   "metadata": {},
   "outputs": [],
   "source": [
    "def build_lensfinder_classifier(input_shape):\n",
    "    input_layer = Input(shape=input_shape)\n",
    "    lensfinder = build_conv_block(input_layer,16,first_block=True)\n",
    "    lensfinder = build_conv_block(lensfinder,32)\n",
    "    lensfinder = build_conv_block(lensfinder,64)\n",
    "    lensfinder = Dropout(0.5)(lensfinder)\n",
    "    lensfinder = Conv2D(128,(3,3),activation=custom_relu,kernel_initializer=VarianceScaling())(lensfinder)\n",
    "    lensfinder = Dropout(0.5)(lensfinder)\n",
    "    lensfinder = Conv2D(128,(3,3),activation=custom_relu,kernel_initializer=VarianceScaling())(lensfinder)\n",
    "    lensfinder = BatchNormalization()(lensfinder)\n",
    "    lensfinder = Dropout(0.5)(lensfinder)\n",
    "    lensfinder = Flatten()(lensfinder)\n",
    "    lensfinder = Dense(1024,activation=custom_relu,kernel_initializer=VarianceScaling())(lensfinder)\n",
    "    lensfinder = Dropout(0.5)(lensfinder)\n",
    "    lensfinder = Dense(1024,activation=custom_relu,kernel_initializer=VarianceScaling())(lensfinder)\n",
    "    lensfinder = Dropout(0.5)(lensfinder)\n",
    "    lensfinder = Dense(1024,activation=custom_relu,kernel_initializer=VarianceScaling())(lensfinder)\n",
    "    lensfinder = BatchNormalization()(lensfinder)\n",
    "    lensfinder = Dense(1,activation='sigmoid',kernel_initializer=VarianceScaling())(lensfinder)\n",
    "    #idk if its sigmoid activation, the paper didnt show it\n",
    "    model = Model(input_layer,lensfinder)\n",
    "    model.summary()\n",
    "    model.compile(loss='binary_crossentropy',optimizer='adam')\n",
    "    return model"
   ]
  },
  {
   "cell_type": "code",
   "execution_count": 32,
   "metadata": {},
   "outputs": [
    {
     "name": "stdout",
     "output_type": "stream",
     "text": [
      "_________________________________________________________________\n",
      "Layer (type)                 Output Shape              Param #   \n",
      "=================================================================\n",
      "input_3 (InputLayer)         (None, 101, 101, 1)       0         \n",
      "_________________________________________________________________\n",
      "conv2d_17 (Conv2D)           (None, 98, 98, 16)        272       \n",
      "_________________________________________________________________\n",
      "conv2d_18 (Conv2D)           (None, 96, 96, 16)        2320      \n",
      "_________________________________________________________________\n",
      "max_pooling2d_7 (MaxPooling2 (None, 48, 48, 16)        0         \n",
      "_________________________________________________________________\n",
      "batch_normalization_11 (Batc (None, 48, 48, 16)        64        \n",
      "_________________________________________________________________\n",
      "conv2d_19 (Conv2D)           (None, 46, 46, 32)        4640      \n",
      "_________________________________________________________________\n",
      "conv2d_20 (Conv2D)           (None, 44, 44, 32)        9248      \n",
      "_________________________________________________________________\n",
      "max_pooling2d_8 (MaxPooling2 (None, 22, 22, 32)        0         \n",
      "_________________________________________________________________\n",
      "batch_normalization_12 (Batc (None, 22, 22, 32)        128       \n",
      "_________________________________________________________________\n",
      "conv2d_21 (Conv2D)           (None, 20, 20, 64)        18496     \n",
      "_________________________________________________________________\n",
      "conv2d_22 (Conv2D)           (None, 18, 18, 64)        36928     \n",
      "_________________________________________________________________\n",
      "max_pooling2d_9 (MaxPooling2 (None, 9, 9, 64)          0         \n",
      "_________________________________________________________________\n",
      "batch_normalization_13 (Batc (None, 9, 9, 64)          256       \n",
      "_________________________________________________________________\n",
      "dropout_11 (Dropout)         (None, 9, 9, 64)          0         \n",
      "_________________________________________________________________\n",
      "conv2d_23 (Conv2D)           (None, 7, 7, 128)         73856     \n",
      "_________________________________________________________________\n",
      "dropout_12 (Dropout)         (None, 7, 7, 128)         0         \n",
      "_________________________________________________________________\n",
      "conv2d_24 (Conv2D)           (None, 5, 5, 128)         147584    \n",
      "_________________________________________________________________\n",
      "batch_normalization_14 (Batc (None, 5, 5, 128)         512       \n",
      "_________________________________________________________________\n",
      "dropout_13 (Dropout)         (None, 5, 5, 128)         0         \n",
      "_________________________________________________________________\n",
      "flatten_3 (Flatten)          (None, 3200)              0         \n",
      "_________________________________________________________________\n",
      "dense_9 (Dense)              (None, 1024)              3277824   \n",
      "_________________________________________________________________\n",
      "dropout_14 (Dropout)         (None, 1024)              0         \n",
      "_________________________________________________________________\n",
      "dense_10 (Dense)             (None, 1024)              1049600   \n",
      "_________________________________________________________________\n",
      "dropout_15 (Dropout)         (None, 1024)              0         \n",
      "_________________________________________________________________\n",
      "dense_11 (Dense)             (None, 1024)              1049600   \n",
      "_________________________________________________________________\n",
      "batch_normalization_15 (Batc (None, 1024)              4096      \n",
      "_________________________________________________________________\n",
      "dense_12 (Dense)             (None, 1)                 1025      \n",
      "=================================================================\n",
      "Total params: 5,676,449\n",
      "Trainable params: 5,673,921\n",
      "Non-trainable params: 2,528\n",
      "_________________________________________________________________\n"
     ]
    }
   ],
   "source": [
    "lensfinder = build_lensfinder_classifier((101,101,1))"
   ]
  },
  {
   "cell_type": "markdown",
   "metadata": {},
   "source": [
    "#### Preprocesamiento"
   ]
  },
  {
   "cell_type": "markdown",
   "metadata": {},
   "source": [
    "Si bien, en el paper no mencionan el preprocesamiento que se utiliza para las imágenes. Sin embargo, gracias al paper del challenge logré dar con el [github](https://github.com/mariogeiger/lensfinder-euclid/blob/master/arch_baseline.py) con la implementación de esta red, por lo que realizaré dicho preprocesamiento.\n",
    "\n",
    "Básicamente consisten en un Standard Scaler, considerando todos los datos del set de entrenamiento."
   ]
  },
  {
   "cell_type": "code",
   "execution_count": 9,
   "metadata": {},
   "outputs": [],
   "source": [
    "SPACE_TRAIN_MEAN = space_based_lens_images.mean()\n",
    "SPACE_TRAIN_STD = space_based_lens_images.std()"
   ]
  },
  {
   "cell_type": "code",
   "execution_count": 12,
   "metadata": {},
   "outputs": [
    {
     "name": "stdout",
     "output_type": "stream",
     "text": [
      "4.3368545e-13\n"
     ]
    }
   ],
   "source": [
    "print(SPACE_TRAIN_MEAN)"
   ]
  },
  {
   "cell_type": "code",
   "execution_count": 13,
   "metadata": {},
   "outputs": [
    {
     "name": "stdout",
     "output_type": "stream",
     "text": [
      "5.5039e-12\n"
     ]
    }
   ],
   "source": [
    "print(SPACE_TRAIN_STD)"
   ]
  },
  {
   "cell_type": "code",
   "execution_count": 14,
   "metadata": {},
   "outputs": [],
   "source": [
    "space_based_lens_images[space_based_lens_images == 100] = 0.0\n",
    "space_based_lens_images = (space_based_lens_images - SPACE_TRAIN_MEAN) / SPACE_TRAIN_STD"
   ]
  },
  {
   "cell_type": "markdown",
   "metadata": {},
   "source": [
    "Ahora separamos en conjunto de entrenamiento y validación. Ellos toman como validación las últimas 3000 imágenes del set de entrenamiento. Yo tomaré 3000 también, pero mediante muestreo estratificado."
   ]
  },
  {
   "cell_type": "code",
   "execution_count": 15,
   "metadata": {},
   "outputs": [
    {
     "name": "stdout",
     "output_type": "stream",
     "text": [
      "x_train shape: (17000, 101, 101, 1)\n",
      "x_val shape: (3000, 101, 101, 1)\n",
      "y_train shape: (17000,)\n",
      "y_train shape: (3000,)\n"
     ]
    }
   ],
   "source": [
    "y = df_space['is_lens'].values\n",
    "x_train, x_val, y_train, y_val = train_test_split(\n",
    "    space_based_lens_images,\n",
    "    y,\n",
    "    test_size=0.15,\n",
    "    random_state=42,\n",
    "    stratify=y\n",
    ")\n",
    "\n",
    "print(\"x_train shape: {}\".format(x_train.shape))\n",
    "print(\"x_val shape: {}\".format(x_val.shape))\n",
    "print(\"y_train shape: {}\".format(y_train.shape))\n",
    "print(\"y_train shape: {}\".format(y_val.shape))"
   ]
  },
  {
   "cell_type": "markdown",
   "metadata": {},
   "source": [
    "#### Entrenamiento"
   ]
  },
  {
   "cell_type": "markdown",
   "metadata": {},
   "source": [
    "Para el entrenamiento utilizan batch balanceados de 30 imágenes. También, aplican data augmentation, considerando rotaciones en 90 grados y flips, y también hacen shift y multiplicación por escalar. Estas dos últimas transformaciones no las mencionan en su paper, pero están en el paper del challenge y en su implementación en github.\n",
    "\n",
    "Como Keras no tiene implementado algún método para rotar por angulos específicos, por lo que aplicaré estas transformaciones por fuera de keras."
   ]
  },
  {
   "cell_type": "code",
   "execution_count": 16,
   "metadata": {},
   "outputs": [],
   "source": [
    "def shift_and_multiply(image):\n",
    "    mul = np.random.uniform(0.8, 1.2)\n",
    "    shift = np.random.uniform(-0.1, 0.1)\n",
    "    return image * mul + shift"
   ]
  },
  {
   "cell_type": "code",
   "execution_count": 17,
   "metadata": {},
   "outputs": [],
   "source": [
    "data_aug_gen = ImageDataGenerator(\n",
    "    horizontal_flip = True,\n",
    "    preprocessing_function = shift_and_multiply\n",
    ")"
   ]
  },
  {
   "cell_type": "code",
   "execution_count": 18,
   "metadata": {},
   "outputs": [],
   "source": [
    "def apply_rotations(batch_x,batch_labels):\n",
    "    augmented_batch = list()\n",
    "    augmented_labels = list()\n",
    "    rotation_angles = [90,180,270]\n",
    "    for x, y in zip(batch_x,batch_labels):\n",
    "        augmented_batch.append(x)\n",
    "        augmented_labels.append(y)\n",
    "        for angle in rotation_angles:\n",
    "            augmented_batch.append(rotate(x,angle))\n",
    "            augmented_labels.append(y)\n",
    "    augmented_batch = np.asarray(augmented_batch)\n",
    "    augmented_labels = np.asarray(augmented_labels)\n",
    "    return augmented_batch, augmented_labels\n",
    "        "
   ]
  },
  {
   "cell_type": "markdown",
   "metadata": {},
   "source": [
    "La siguiente clase se encarga de aplicar un generador que entrega un batch balanceado, para luego aplicar las operaciones de data augmentation sobre dicho batch."
   ]
  },
  {
   "cell_type": "code",
   "execution_count": 19,
   "metadata": {},
   "outputs": [],
   "source": [
    "class BalancedDataGenerator(Sequence):\n",
    "    \"\"\"ImageDataGenerator + RandomOversampling\"\"\"\n",
    "    def __init__(self, x, y, data_aug_gen, batch_size=30):\n",
    "        self.data_aug_gen = data_aug_gen\n",
    "        self.batch_size = batch_size\n",
    "        self._shape = x.shape        \n",
    "        data_aug_gen.fit(x)\n",
    "        self.batch_gen, self.steps_per_epoch = balanced_batch_generator(\n",
    "            x.reshape(x.shape[0], -1),\n",
    "            y,\n",
    "            batch_size=self.batch_size\n",
    "        )\n",
    "\n",
    "    def __len__(self):\n",
    "        return self._shape[0] // self.batch_size\n",
    "\n",
    "    def __getitem__(self, idx):\n",
    "        x_batch, y_batch = self.batch_gen.__next__()\n",
    "        x_batch = x_batch.reshape(-1, *self._shape[1:])\n",
    "        x_batch, y_batch = apply_rotations(x_batch,y_batch)\n",
    "        return self.data_aug_gen.flow(x_batch, y_batch, batch_size=self.batch_size).next()"
   ]
  },
  {
   "cell_type": "code",
   "execution_count": 20,
   "metadata": {},
   "outputs": [],
   "source": [
    "balanced_generator = BalancedDataGenerator(x_train, y_train, data_aug_gen, batch_size=30)\n",
    "steps_per_epoch = balanced_generator.steps_per_epoch"
   ]
  },
  {
   "cell_type": "code",
   "execution_count": 34,
   "metadata": {},
   "outputs": [
    {
     "name": "stdout",
     "output_type": "stream",
     "text": [
      "Epoch 1/200\n",
      "341/341 [==============================] - 292s 856ms/step - loss: 0.6793 - val_loss: 0.5940\n",
      "Epoch 2/200\n",
      "341/341 [==============================] - 244s 714ms/step - loss: 0.5984 - val_loss: 0.7024\n",
      "Epoch 3/200\n",
      "341/341 [==============================] - 235s 690ms/step - loss: 0.5323 - val_loss: 0.6889\n",
      "Epoch 4/200\n",
      "341/341 [==============================] - 243s 712ms/step - loss: 0.4775 - val_loss: 0.4873\n",
      "Epoch 5/200\n",
      "341/341 [==============================] - 231s 678ms/step - loss: 0.4731 - val_loss: 0.3865\n",
      "Epoch 6/200\n",
      "341/341 [==============================] - 234s 686ms/step - loss: 0.4378 - val_loss: 0.5084\n",
      "Epoch 7/200\n",
      "341/341 [==============================] - 236s 692ms/step - loss: 0.4119 - val_loss: 0.5498\n",
      "Epoch 8/200\n",
      "341/341 [==============================] - 237s 694ms/step - loss: 0.4163 - val_loss: 0.3840\n",
      "Epoch 9/200\n",
      "341/341 [==============================] - 255s 749ms/step - loss: 0.4396 - val_loss: 0.5997\n",
      "Epoch 10/200\n",
      "341/341 [==============================] - 349s 1s/step - loss: 0.4221 - val_loss: 0.5074\n",
      "Epoch 11/200\n",
      "341/341 [==============================] - 382s 1s/step - loss: 0.4176 - val_loss: 0.5861\n",
      "Epoch 12/200\n",
      "341/341 [==============================] - 378s 1s/step - loss: 0.3984 - val_loss: 0.3869\n",
      "Epoch 13/200\n",
      "341/341 [==============================] - 418s 1s/step - loss: 0.3941 - val_loss: 0.4939\n",
      "Epoch 14/200\n",
      "341/341 [==============================] - 227s 665ms/step - loss: 0.3749 - val_loss: 0.4796\n",
      "Epoch 15/200\n",
      "341/341 [==============================] - 110s 322ms/step - loss: 0.3775 - val_loss: 0.6711\n",
      "Epoch 16/200\n",
      "341/341 [==============================] - 110s 322ms/step - loss: 0.3637 - val_loss: 0.3822\n",
      "Epoch 17/200\n",
      "341/341 [==============================] - 110s 322ms/step - loss: 0.4163 - val_loss: 1.0803\n",
      "Epoch 18/200\n",
      "341/341 [==============================] - 110s 323ms/step - loss: 0.3839 - val_loss: 0.4330\n",
      "Epoch 19/200\n",
      "341/341 [==============================] - 110s 324ms/step - loss: 0.3618 - val_loss: 0.3789\n",
      "Epoch 20/200\n",
      "341/341 [==============================] - 110s 321ms/step - loss: 0.3637 - val_loss: 0.3599\n",
      "Epoch 21/200\n",
      "341/341 [==============================] - 109s 319ms/step - loss: 0.3484 - val_loss: 0.3656\n",
      "Epoch 22/200\n",
      "341/341 [==============================] - 109s 321ms/step - loss: 0.3549 - val_loss: 0.4674\n",
      "Epoch 23/200\n",
      "341/341 [==============================] - 109s 319ms/step - loss: 0.3466 - val_loss: 0.5000\n",
      "Epoch 24/200\n",
      "341/341 [==============================] - 109s 320ms/step - loss: 0.3387 - val_loss: 0.3653\n",
      "Epoch 25/200\n",
      "341/341 [==============================] - 111s 325ms/step - loss: 0.3484 - val_loss: 0.4651\n",
      "Epoch 26/200\n",
      "341/341 [==============================] - 109s 320ms/step - loss: 0.3304 - val_loss: 0.3538\n",
      "Epoch 27/200\n",
      "341/341 [==============================] - 110s 324ms/step - loss: 0.3173 - val_loss: 0.4301\n",
      "Epoch 28/200\n",
      "341/341 [==============================] - 110s 324ms/step - loss: 0.3212 - val_loss: 0.3811\n",
      "Epoch 29/200\n",
      "341/341 [==============================] - 111s 326ms/step - loss: 0.3183 - val_loss: 0.3342\n",
      "Epoch 30/200\n",
      "341/341 [==============================] - 120s 352ms/step - loss: 0.3157 - val_loss: 0.2761\n",
      "Epoch 31/200\n",
      "341/341 [==============================] - 110s 322ms/step - loss: 0.2975 - val_loss: 0.3583\n",
      "Epoch 32/200\n",
      "341/341 [==============================] - 116s 339ms/step - loss: 0.3014 - val_loss: 0.4028\n",
      "Epoch 33/200\n",
      "341/341 [==============================] - 116s 340ms/step - loss: 0.3131 - val_loss: 0.2820\n",
      "Epoch 34/200\n",
      "341/341 [==============================] - 122s 357ms/step - loss: 0.2994 - val_loss: 0.3559\n",
      "Epoch 35/200\n",
      "341/341 [==============================] - 112s 329ms/step - loss: 0.2946 - val_loss: 0.2713\n",
      "Epoch 36/200\n",
      "341/341 [==============================] - 117s 343ms/step - loss: 0.2980 - val_loss: 0.2774\n",
      "Epoch 37/200\n",
      "341/341 [==============================] - 112s 328ms/step - loss: 0.2965 - val_loss: 0.3806\n",
      "Epoch 38/200\n",
      "341/341 [==============================] - 112s 329ms/step - loss: 0.2935 - val_loss: 0.3851\n",
      "Epoch 39/200\n",
      "341/341 [==============================] - 111s 325ms/step - loss: 0.2887 - val_loss: 0.3242\n",
      "Epoch 40/200\n",
      "341/341 [==============================] - 110s 321ms/step - loss: 0.2970 - val_loss: 0.3342\n",
      "Epoch 41/200\n",
      "341/341 [==============================] - 111s 325ms/step - loss: 0.2856 - val_loss: 0.4099\n",
      "Epoch 42/200\n",
      "341/341 [==============================] - 111s 326ms/step - loss: 0.2854 - val_loss: 0.3461\n",
      "Epoch 43/200\n",
      "341/341 [==============================] - 110s 322ms/step - loss: 0.3533 - val_loss: 0.3580\n",
      "Epoch 44/200\n",
      "341/341 [==============================] - 111s 325ms/step - loss: 0.2967 - val_loss: 0.3515\n",
      "Epoch 45/200\n",
      "341/341 [==============================] - 111s 327ms/step - loss: 0.2835 - val_loss: 0.3768\n",
      "Epoch 46/200\n",
      "341/341 [==============================] - 112s 328ms/step - loss: 0.2845 - val_loss: 0.3029\n",
      "Epoch 47/200\n",
      "341/341 [==============================] - 109s 321ms/step - loss: 0.2768 - val_loss: 0.2913\n",
      "Epoch 48/200\n",
      "341/341 [==============================] - 110s 321ms/step - loss: 0.2834 - val_loss: 0.3747\n",
      "Epoch 49/200\n",
      "341/341 [==============================] - 109s 320ms/step - loss: 0.2667 - val_loss: 0.3626\n",
      "Epoch 50/200\n",
      "341/341 [==============================] - 110s 322ms/step - loss: 0.2717 - val_loss: 0.3535\n",
      "Epoch 51/200\n",
      "341/341 [==============================] - 112s 330ms/step - loss: 0.2755 - val_loss: 0.3649\n",
      "Epoch 52/200\n",
      "341/341 [==============================] - 110s 324ms/step - loss: 0.3507 - val_loss: 0.4921\n",
      "Epoch 53/200\n",
      "341/341 [==============================] - 112s 328ms/step - loss: 0.3541 - val_loss: 0.5578\n",
      "Epoch 54/200\n",
      "341/341 [==============================] - 111s 326ms/step - loss: 0.3109 - val_loss: 0.3184\n",
      "Epoch 55/200\n",
      "341/341 [==============================] - 114s 335ms/step - loss: 0.2965 - val_loss: 0.4302\n",
      "Epoch 56/200\n",
      "341/341 [==============================] - 111s 325ms/step - loss: 0.2871 - val_loss: 0.4372\n",
      "Epoch 57/200\n",
      "341/341 [==============================] - 115s 336ms/step - loss: 0.2818 - val_loss: 0.3849\n",
      "Epoch 58/200\n",
      "341/341 [==============================] - 111s 324ms/step - loss: 0.2723 - val_loss: 0.3318\n",
      "Epoch 59/200\n",
      "341/341 [==============================] - 111s 324ms/step - loss: 0.2635 - val_loss: 0.3406\n",
      "Epoch 60/200\n",
      "341/341 [==============================] - 112s 327ms/step - loss: 0.2658 - val_loss: 0.3070\n",
      "Epoch 61/200\n",
      "341/341 [==============================] - 112s 330ms/step - loss: 0.2633 - val_loss: 0.2937\n",
      "Epoch 62/200\n",
      "341/341 [==============================] - 111s 325ms/step - loss: 0.2719 - val_loss: 0.2967\n",
      "Epoch 63/200\n",
      "341/341 [==============================] - 109s 321ms/step - loss: 0.2576 - val_loss: 0.3125\n",
      "Epoch 64/200\n",
      "341/341 [==============================] - 109s 319ms/step - loss: 0.2574 - val_loss: 0.3248\n",
      "Epoch 65/200\n",
      "341/341 [==============================] - 109s 320ms/step - loss: 0.2589 - val_loss: 0.2836\n",
      "Epoch 66/200\n",
      "341/341 [==============================] - 110s 322ms/step - loss: 0.2671 - val_loss: 0.3422\n",
      "Epoch 67/200\n",
      "341/341 [==============================] - 110s 321ms/step - loss: 0.2548 - val_loss: 0.3291\n",
      "Epoch 68/200\n",
      "341/341 [==============================] - 109s 319ms/step - loss: 0.2571 - val_loss: 0.3053\n",
      "Epoch 69/200\n",
      "341/341 [==============================] - 109s 320ms/step - loss: 0.2914 - val_loss: 0.4041\n",
      "Epoch 70/200\n",
      "341/341 [==============================] - 109s 319ms/step - loss: 0.2896 - val_loss: 0.3200\n",
      "Epoch 71/200\n",
      "341/341 [==============================] - 109s 320ms/step - loss: 0.3254 - val_loss: 0.3258\n",
      "Epoch 72/200\n",
      "341/341 [==============================] - 109s 319ms/step - loss: 0.2864 - val_loss: 0.3150\n",
      "Epoch 73/200\n",
      "341/341 [==============================] - 109s 318ms/step - loss: 0.2724 - val_loss: 0.3340\n",
      "Epoch 74/200\n",
      "341/341 [==============================] - 108s 317ms/step - loss: 0.2632 - val_loss: 0.3372\n",
      "Epoch 75/200\n",
      "341/341 [==============================] - 108s 318ms/step - loss: 0.2555 - val_loss: 0.3411\n",
      "Epoch 76/200\n",
      "341/341 [==============================] - 109s 318ms/step - loss: 0.2533 - val_loss: 0.3092\n",
      "Epoch 77/200\n",
      "341/341 [==============================] - 109s 319ms/step - loss: 0.2513 - val_loss: 0.3147\n",
      "Epoch 78/200\n",
      "341/341 [==============================] - 109s 319ms/step - loss: 0.2435 - val_loss: 0.2838\n",
      "Epoch 79/200\n",
      "341/341 [==============================] - 108s 317ms/step - loss: 0.2410 - val_loss: 0.2580\n",
      "Epoch 80/200\n",
      "341/341 [==============================] - 109s 319ms/step - loss: 0.2562 - val_loss: 0.3927\n",
      "Epoch 81/200\n",
      "341/341 [==============================] - 109s 319ms/step - loss: 0.2528 - val_loss: 0.3885\n",
      "Epoch 82/200\n",
      "341/341 [==============================] - 108s 318ms/step - loss: 0.2462 - val_loss: 0.2819\n",
      "Epoch 83/200\n",
      "341/341 [==============================] - 108s 318ms/step - loss: 0.2461 - val_loss: 0.3152\n",
      "Epoch 84/200\n",
      "341/341 [==============================] - 108s 318ms/step - loss: 0.2407 - val_loss: 0.3085\n",
      "Epoch 85/200\n",
      "341/341 [==============================] - 1862s 5s/step - loss: 0.2397 - val_loss: 0.3035\n",
      "Epoch 86/200\n",
      "341/341 [==============================] - 109s 318ms/step - loss: 0.2533 - val_loss: 0.3370\n",
      "Epoch 87/200\n",
      "341/341 [==============================] - 110s 322ms/step - loss: 0.2504 - val_loss: 0.2669\n",
      "Epoch 88/200\n",
      "341/341 [==============================] - 110s 323ms/step - loss: 0.2386 - val_loss: 0.3737\n",
      "Epoch 89/200\n",
      "341/341 [==============================] - 109s 320ms/step - loss: 0.2471 - val_loss: 0.2916\n",
      "Epoch 90/200\n",
      "341/341 [==============================] - 108s 318ms/step - loss: 0.2347 - val_loss: 0.3384\n",
      "Epoch 91/200\n",
      "341/341 [==============================] - 108s 317ms/step - loss: 0.2330 - val_loss: 0.3583\n",
      "Epoch 92/200\n",
      "341/341 [==============================] - 109s 320ms/step - loss: 0.2440 - val_loss: 0.3736\n",
      "Epoch 93/200\n",
      "341/341 [==============================] - 109s 319ms/step - loss: 0.2319 - val_loss: 0.3963\n",
      "Epoch 94/200\n",
      "341/341 [==============================] - 109s 320ms/step - loss: 0.2436 - val_loss: 0.3380\n",
      "Epoch 95/200\n",
      "341/341 [==============================] - 109s 319ms/step - loss: 0.2412 - val_loss: 0.3235\n",
      "Epoch 96/200\n",
      "341/341 [==============================] - 108s 318ms/step - loss: 0.2281 - val_loss: 0.3401\n",
      "Epoch 97/200\n",
      "341/341 [==============================] - 109s 321ms/step - loss: 0.2306 - val_loss: 0.3445\n",
      "Epoch 98/200\n",
      "341/341 [==============================] - 111s 325ms/step - loss: 0.2276 - val_loss: 0.3017\n",
      "Epoch 99/200\n",
      "341/341 [==============================] - 110s 322ms/step - loss: 0.3344 - val_loss: 0.3883\n",
      "Epoch 100/200\n",
      "341/341 [==============================] - 109s 321ms/step - loss: 0.3377 - val_loss: 0.3791\n",
      "Epoch 101/200\n",
      "341/341 [==============================] - 110s 321ms/step - loss: 0.3287 - val_loss: 0.3654\n",
      "Epoch 102/200\n",
      "341/341 [==============================] - 111s 326ms/step - loss: 0.3163 - val_loss: 0.3533\n",
      "Epoch 103/200\n",
      "341/341 [==============================] - 111s 326ms/step - loss: 0.3029 - val_loss: 0.3404\n",
      "Epoch 104/200\n",
      "341/341 [==============================] - 109s 321ms/step - loss: 0.2835 - val_loss: 0.3161\n",
      "Epoch 105/200\n",
      "341/341 [==============================] - 108s 318ms/step - loss: 0.2736 - val_loss: 0.3017\n",
      "Epoch 106/200\n",
      "341/341 [==============================] - 109s 319ms/step - loss: 0.2731 - val_loss: 0.3133\n",
      "Epoch 107/200\n",
      "341/341 [==============================] - 108s 317ms/step - loss: 0.2662 - val_loss: 0.2984\n",
      "Epoch 108/200\n",
      "341/341 [==============================] - 108s 316ms/step - loss: 0.2627 - val_loss: 0.2933\n",
      "Epoch 109/200\n",
      "341/341 [==============================] - 108s 316ms/step - loss: 0.2493 - val_loss: 0.3405\n",
      "Epoch 110/200\n",
      "341/341 [==============================] - 108s 317ms/step - loss: 0.2500 - val_loss: 0.2968\n",
      "Epoch 111/200\n",
      "341/341 [==============================] - 109s 319ms/step - loss: 0.2414 - val_loss: 0.3204\n",
      "Epoch 112/200\n",
      "341/341 [==============================] - 110s 321ms/step - loss: 0.2445 - val_loss: 0.3190\n",
      "Epoch 113/200\n",
      "341/341 [==============================] - 108s 318ms/step - loss: 0.2428 - val_loss: 0.3153\n",
      "Epoch 114/200\n",
      "341/341 [==============================] - 109s 321ms/step - loss: 0.2412 - val_loss: 0.3152\n",
      "Epoch 115/200\n",
      "341/341 [==============================] - 108s 316ms/step - loss: 0.2312 - val_loss: 0.2921\n",
      "Epoch 116/200\n",
      "341/341 [==============================] - 109s 318ms/step - loss: 0.2365 - val_loss: 0.3354\n",
      "Epoch 117/200\n",
      "341/341 [==============================] - 108s 318ms/step - loss: 0.2301 - val_loss: 0.3154\n",
      "Epoch 118/200\n",
      "341/341 [==============================] - 109s 319ms/step - loss: 0.2270 - val_loss: 0.3649\n",
      "Epoch 119/200\n",
      "341/341 [==============================] - 109s 319ms/step - loss: 0.2224 - val_loss: 0.3599\n",
      "Epoch 120/200\n",
      "341/341 [==============================] - 117s 342ms/step - loss: 0.2169 - val_loss: 0.3342\n",
      "Epoch 121/200\n",
      "341/341 [==============================] - 117s 342ms/step - loss: 0.2158 - val_loss: 0.3973\n",
      "Epoch 122/200\n",
      "341/341 [==============================] - 128s 377ms/step - loss: 0.2253 - val_loss: 0.2939\n",
      "Epoch 123/200\n",
      "341/341 [==============================] - 109s 318ms/step - loss: 0.2263 - val_loss: 0.3244\n",
      "Epoch 124/200\n",
      "341/341 [==============================] - 108s 317ms/step - loss: 0.2087 - val_loss: 0.3406\n",
      "Epoch 125/200\n",
      "341/341 [==============================] - 108s 318ms/step - loss: 0.2220 - val_loss: 0.3736\n",
      "Epoch 126/200\n",
      "341/341 [==============================] - 109s 319ms/step - loss: 0.2176 - val_loss: 0.4034\n",
      "Epoch 127/200\n",
      "341/341 [==============================] - 108s 317ms/step - loss: 0.2135 - val_loss: 0.3045\n",
      "Epoch 128/200\n",
      "341/341 [==============================] - 109s 320ms/step - loss: 0.2150 - val_loss: 0.4223\n",
      "Epoch 129/200\n",
      "341/341 [==============================] - 108s 317ms/step - loss: 0.2236 - val_loss: 0.3242\n",
      "Epoch 130/200\n",
      "341/341 [==============================] - 109s 319ms/step - loss: 0.2121 - val_loss: 0.4019\n",
      "Epoch 131/200\n",
      "341/341 [==============================] - 109s 320ms/step - loss: 0.2195 - val_loss: 0.3263\n",
      "Epoch 132/200\n",
      "341/341 [==============================] - 109s 320ms/step - loss: 0.2177 - val_loss: 0.3008\n",
      "Epoch 133/200\n",
      "341/341 [==============================] - 117s 342ms/step - loss: 0.2229 - val_loss: 0.3007\n",
      "Epoch 134/200\n",
      "341/341 [==============================] - 111s 326ms/step - loss: 0.2201 - val_loss: 0.2502\n",
      "Epoch 135/200\n",
      "341/341 [==============================] - 112s 328ms/step - loss: 0.2216 - val_loss: 0.2703\n",
      "Epoch 136/200\n",
      "341/341 [==============================] - 110s 323ms/step - loss: 0.2134 - val_loss: 0.2832\n",
      "Epoch 137/200\n",
      "341/341 [==============================] - 116s 339ms/step - loss: 0.2177 - val_loss: 0.3402\n",
      "Epoch 138/200\n",
      "341/341 [==============================] - 116s 341ms/step - loss: 0.2159 - val_loss: 0.2980\n",
      "Epoch 139/200\n",
      "341/341 [==============================] - 126s 370ms/step - loss: 0.2148 - val_loss: 0.3065\n",
      "Epoch 140/200\n",
      "341/341 [==============================] - 115s 338ms/step - loss: 0.2201 - val_loss: 0.2731\n",
      "Epoch 141/200\n",
      "341/341 [==============================] - 116s 340ms/step - loss: 0.2028 - val_loss: 0.2546\n",
      "Epoch 142/200\n",
      "341/341 [==============================] - 112s 328ms/step - loss: 0.2088 - val_loss: 0.3511\n",
      "Epoch 143/200\n",
      "341/341 [==============================] - 110s 324ms/step - loss: 0.2211 - val_loss: 0.2963\n",
      "Epoch 144/200\n",
      "341/341 [==============================] - 109s 320ms/step - loss: 0.2107 - val_loss: 0.3150\n",
      "Epoch 145/200\n",
      "341/341 [==============================] - 109s 318ms/step - loss: 0.2092 - val_loss: 0.3919\n",
      "Epoch 146/200\n",
      "341/341 [==============================] - 108s 318ms/step - loss: 0.2114 - val_loss: 0.3135\n",
      "Epoch 147/200\n",
      "341/341 [==============================] - 109s 319ms/step - loss: 0.2409 - val_loss: 0.3546\n",
      "Epoch 148/200\n",
      "341/341 [==============================] - 109s 318ms/step - loss: 0.2144 - val_loss: 0.2830\n",
      "Epoch 149/200\n",
      "341/341 [==============================] - 109s 319ms/step - loss: 0.2138 - val_loss: 0.3017\n",
      "Epoch 150/200\n",
      "341/341 [==============================] - 109s 319ms/step - loss: 0.2119 - val_loss: 0.2768\n",
      "Epoch 151/200\n",
      "341/341 [==============================] - 109s 318ms/step - loss: 0.2090 - val_loss: 0.2819\n",
      "Epoch 152/200\n",
      "341/341 [==============================] - 109s 320ms/step - loss: 0.2082 - val_loss: 0.2785\n",
      "Epoch 153/200\n",
      "341/341 [==============================] - 108s 317ms/step - loss: 0.2047 - val_loss: 0.3327\n",
      "Epoch 154/200\n",
      "341/341 [==============================] - 108s 317ms/step - loss: 0.2330 - val_loss: 0.3069\n"
     ]
    },
    {
     "name": "stdout",
     "output_type": "stream",
     "text": [
      "Epoch 155/200\n",
      "341/341 [==============================] - 108s 317ms/step - loss: 0.2210 - val_loss: 0.2874\n",
      "Epoch 156/200\n",
      "341/341 [==============================] - 108s 318ms/step - loss: 0.3847 - val_loss: 0.4161\n",
      "Epoch 157/200\n",
      "341/341 [==============================] - 108s 318ms/step - loss: 0.3352 - val_loss: 0.3850\n",
      "Epoch 158/200\n",
      "341/341 [==============================] - 109s 318ms/step - loss: 0.2994 - val_loss: 0.3435\n",
      "Epoch 159/200\n",
      "341/341 [==============================] - 109s 318ms/step - loss: 0.2874 - val_loss: 0.3190\n",
      "Epoch 160/200\n",
      "341/341 [==============================] - 109s 320ms/step - loss: 0.2691 - val_loss: 0.3243\n",
      "Epoch 161/200\n",
      "341/341 [==============================] - 109s 319ms/step - loss: 0.2637 - val_loss: 0.3164\n",
      "Epoch 162/200\n",
      "341/341 [==============================] - 108s 318ms/step - loss: 0.2492 - val_loss: 0.3422\n",
      "Epoch 163/200\n",
      "341/341 [==============================] - 109s 319ms/step - loss: 0.2391 - val_loss: 0.3338\n",
      "Epoch 164/200\n",
      "341/341 [==============================] - 110s 322ms/step - loss: 0.2303 - val_loss: 0.3186\n",
      "Epoch 165/200\n",
      "341/341 [==============================] - 109s 320ms/step - loss: 0.2360 - val_loss: 0.2793\n",
      "Epoch 166/200\n",
      "341/341 [==============================] - 108s 318ms/step - loss: 0.2214 - val_loss: 0.2753\n",
      "Epoch 167/200\n",
      "341/341 [==============================] - 109s 320ms/step - loss: 0.2172 - val_loss: 0.3008\n",
      "Epoch 168/200\n",
      "341/341 [==============================] - 108s 318ms/step - loss: 0.2227 - val_loss: 0.3028\n",
      "Epoch 169/200\n",
      "341/341 [==============================] - 108s 318ms/step - loss: 0.2124 - val_loss: 0.2854\n",
      "Epoch 170/200\n",
      "341/341 [==============================] - 108s 318ms/step - loss: 0.2072 - val_loss: 0.3128\n",
      "Epoch 171/200\n",
      "341/341 [==============================] - 109s 320ms/step - loss: 0.2136 - val_loss: 0.3385\n",
      "Epoch 172/200\n",
      "341/341 [==============================] - 110s 322ms/step - loss: 0.2045 - val_loss: 0.2821\n",
      "Epoch 173/200\n",
      "341/341 [==============================] - 113s 330ms/step - loss: 0.2045 - val_loss: 0.3144\n",
      "Epoch 174/200\n",
      "341/341 [==============================] - 109s 320ms/step - loss: 0.2089 - val_loss: 0.3017\n",
      "Epoch 175/200\n",
      "341/341 [==============================] - 110s 322ms/step - loss: 0.2183 - val_loss: 0.2871\n",
      "Epoch 176/200\n",
      "341/341 [==============================] - 112s 328ms/step - loss: 0.2123 - val_loss: 0.2790\n",
      "Epoch 177/200\n",
      "341/341 [==============================] - 110s 323ms/step - loss: 0.2118 - val_loss: 0.3827\n",
      "Epoch 178/200\n",
      "341/341 [==============================] - 109s 321ms/step - loss: 0.2096 - val_loss: 0.3399\n",
      "Epoch 179/200\n",
      "341/341 [==============================] - 110s 322ms/step - loss: 0.1987 - val_loss: 0.2911\n",
      "Epoch 180/200\n",
      "341/341 [==============================] - 109s 320ms/step - loss: 0.2053 - val_loss: 0.3024\n",
      "Epoch 181/200\n",
      "341/341 [==============================] - 108s 318ms/step - loss: 0.2055 - val_loss: 0.2756\n",
      "Epoch 182/200\n",
      "341/341 [==============================] - 108s 316ms/step - loss: 0.2041 - val_loss: 0.3616\n",
      "Epoch 183/200\n",
      "341/341 [==============================] - 108s 318ms/step - loss: 0.2069 - val_loss: 0.2751\n",
      "Epoch 184/200\n",
      "341/341 [==============================] - 108s 318ms/step - loss: 0.1994 - val_loss: 0.3225\n",
      "Epoch 185/200\n",
      "341/341 [==============================] - 108s 316ms/step - loss: 0.2066 - val_loss: 0.3248\n",
      "Epoch 186/200\n",
      "341/341 [==============================] - 108s 317ms/step - loss: 0.1919 - val_loss: 0.3745\n",
      "Epoch 187/200\n",
      "341/341 [==============================] - 108s 316ms/step - loss: 0.2008 - val_loss: 0.3281\n",
      "Epoch 188/200\n",
      "341/341 [==============================] - 108s 317ms/step - loss: 0.2014 - val_loss: 0.3327\n",
      "Epoch 189/200\n",
      "341/341 [==============================] - 109s 318ms/step - loss: 0.1940 - val_loss: 0.3394\n",
      "Epoch 190/200\n",
      "341/341 [==============================] - 108s 316ms/step - loss: 0.1988 - val_loss: 0.3029\n",
      "Epoch 191/200\n",
      "341/341 [==============================] - 109s 318ms/step - loss: 0.1955 - val_loss: 0.2940\n",
      "Epoch 192/200\n",
      "341/341 [==============================] - 110s 322ms/step - loss: 0.1868 - val_loss: 0.2990\n",
      "Epoch 193/200\n",
      "341/341 [==============================] - 109s 321ms/step - loss: 0.1928 - val_loss: 0.3219\n",
      "Epoch 194/200\n",
      "341/341 [==============================] - 119s 348ms/step - loss: 0.2307 - val_loss: 0.2973\n",
      "Epoch 195/200\n",
      "341/341 [==============================] - 111s 325ms/step - loss: 0.1983 - val_loss: 0.3624\n",
      "Epoch 196/200\n",
      "341/341 [==============================] - 113s 331ms/step - loss: 0.1891 - val_loss: 0.3021\n",
      "Epoch 197/200\n",
      "341/341 [==============================] - 110s 323ms/step - loss: 0.1981 - val_loss: 0.3826\n",
      "Epoch 198/200\n",
      "341/341 [==============================] - 110s 323ms/step - loss: 0.2104 - val_loss: 0.3450\n",
      "Epoch 199/200\n",
      "341/341 [==============================] - 125s 367ms/step - loss: 0.2934 - val_loss: 0.3772\n",
      "Epoch 200/200\n",
      "341/341 [==============================] - 127s 371ms/step - loss: 0.2310 - val_loss: 0.3138\n"
     ]
    }
   ],
   "source": [
    "train_history = lensfinder.fit_generator(\n",
    "        balanced_generator,\n",
    "        steps_per_epoch=steps_per_epoch,\n",
    "        epochs=200,\n",
    "        validation_data=(x_val, y_val),\n",
    "        callbacks=[ModelCheckpoint(\n",
    "            '../../models/lensfinder/lensfinder_model_val_loss_{val_loss:.2f}.hdf5',\n",
    "            monitor='val_loss',\n",
    "            save_best_only=True\n",
    "        )]\n",
    "    )"
   ]
  },
  {
   "cell_type": "code",
   "execution_count": 21,
   "metadata": {},
   "outputs": [],
   "source": [
    "def plot_loss(model_history):\n",
    "    train_loss = model_history.history['loss']\n",
    "    val_loss = model_history.history['val_loss']\n",
    "    epochs = [x for x in range(len(train_loss))]\n",
    "    plt.figure(figsize=(15,7))\n",
    "    plt.plot(epochs,train_loss,'.-')\n",
    "    plt.plot(epochs,val_loss,'.-')\n",
    "    plt.legend(['Training','Validation'])\n",
    "    plt.title('Loss versus epoch first training')\n",
    "    plt.xlabel('Epoch')\n",
    "    plt.ylabel('Binary crossentropy')\n",
    "    \n",
    "    #annotate min value\n",
    "    min_index = np.argmin(model_history.history['val_loss'])\n",
    "    min_value = model_history.history['val_loss'][min_index].round(4)\n",
    "    plt.annotate(\n",
    "        'Validation Min = {}'.format(min_value),\n",
    "        xy=(min_index+1, min_value),\n",
    "        xycoords='data',\n",
    "        xytext=(50, 100),\n",
    "        textcoords='offset points',\n",
    "        fontsize=14,\n",
    "        arrowprops=dict(arrowstyle=\"->\")\n",
    "    )\n",
    "    plt.show()"
   ]
  },
  {
   "cell_type": "code",
   "execution_count": 77,
   "metadata": {},
   "outputs": [
    {
     "data": {
      "image/png": "[encoded data removed]",
      "text/plain": [
       "<Figure size 1080x504 with 1 Axes>"
      ]
     },
     "metadata": {
      "needs_background": "light"
     },
     "output_type": "display_data"
    }
   ],
   "source": [
    "plot_loss(train_history)"
   ]
  },
  {
   "cell_type": "markdown",
   "metadata": {},
   "source": [
    "#### Evaluación"
   ]
  },
  {
   "cell_type": "markdown",
   "metadata": {},
   "source": [
    "Para la evaluación, se utilizarán las mismas métricas utilizadas en el paper original, pero además se utilizará el _classification report_ de _sklearn_, para así obtener métricas de precision, recall, accuracy y f1-score. Esto se realizará para los conjuntos de validación y de pruebas. El conjunto de pruebas está compuesto por 100000 imágenes, por lo que espero que mi ram las aguante. En caso contrario se procesarán por batches.\n",
    "\n",
    "Finalmente se compararán con los resultados presentados por el paper, para así evaluar que tan bien logré replicar la red en este primer intento."
   ]
  },
  {
   "cell_type": "code",
   "execution_count": 22,
   "metadata": {},
   "outputs": [
    {
     "data": {
      "text/html": [
       "<div>\n",
       "<style scoped>\n",
       "    .dataframe tbody tr th:only-of-type {\n",
       "        vertical-align: middle;\n",
       "    }\n",
       "\n",
       "    .dataframe tbody tr th {\n",
       "        vertical-align: top;\n",
       "    }\n",
       "\n",
       "    .dataframe thead th {\n",
       "        text-align: right;\n",
       "    }\n",
       "</style>\n",
       "<table border=\"1\" class=\"dataframe\">\n",
       "  <thead>\n",
       "    <tr style=\"text-align: right;\">\n",
       "      <th></th>\n",
       "      <th>ID</th>\n",
       "      <th>x_crit</th>\n",
       "      <th>y_crit</th>\n",
       "      <th>ID_source</th>\n",
       "      <th>z_source</th>\n",
       "      <th>EUC_VIS_mag_source</th>\n",
       "      <th>caustic_plane</th>\n",
       "      <th>caustic_index</th>\n",
       "      <th>z_caustic_plane</th>\n",
       "      <th>Einstein_area</th>\n",
       "      <th>numb_pix_lensed_image</th>\n",
       "      <th>flux_lensed_image_in_sigma</th>\n",
       "      <th>num_lensed_images</th>\n",
       "      <th>magnification_eff</th>\n",
       "      <th>KiDS_noise_map</th>\n",
       "      <th>total_numb_pixels_sigma</th>\n",
       "      <th>flux_in_sigma</th>\n",
       "      <th>num_images</th>\n",
       "      <th>EUC_VIS_mag_lens</th>\n",
       "      <th>kids_lens_image</th>\n",
       "      <th>mobs_lens_imag</th>\n",
       "      <th>no_source</th>\n",
       "    </tr>\n",
       "  </thead>\n",
       "  <tbody>\n",
       "    <tr>\n",
       "      <th>29386</th>\n",
       "      <td>100000</td>\n",
       "      <td>0.008547</td>\n",
       "      <td>0.002478</td>\n",
       "      <td>6499</td>\n",
       "      <td>1.72</td>\n",
       "      <td>25.947</td>\n",
       "      <td>8</td>\n",
       "      <td>33564</td>\n",
       "      <td>1.5</td>\n",
       "      <td>7.964440e-12</td>\n",
       "      <td>60</td>\n",
       "      <td>84.4225</td>\n",
       "      <td>1</td>\n",
       "      <td>1.95109</td>\n",
       "      <td>0</td>\n",
       "      <td>2147</td>\n",
       "      <td>13858.10</td>\n",
       "      <td>708</td>\n",
       "      <td>24.0633</td>\n",
       "      <td>0</td>\n",
       "      <td>1</td>\n",
       "      <td>0</td>\n",
       "    </tr>\n",
       "    <tr>\n",
       "      <th>35734</th>\n",
       "      <td>100001</td>\n",
       "      <td>-0.001746</td>\n",
       "      <td>0.006276</td>\n",
       "      <td>5136</td>\n",
       "      <td>2.80</td>\n",
       "      <td>25.969</td>\n",
       "      <td>8</td>\n",
       "      <td>46141</td>\n",
       "      <td>1.5</td>\n",
       "      <td>2.703240e-11</td>\n",
       "      <td>291</td>\n",
       "      <td>865.9030</td>\n",
       "      <td>2</td>\n",
       "      <td>6.83700</td>\n",
       "      <td>0</td>\n",
       "      <td>1869</td>\n",
       "      <td>3226.74</td>\n",
       "      <td>738</td>\n",
       "      <td>23.4306</td>\n",
       "      <td>0</td>\n",
       "      <td>1</td>\n",
       "      <td>0</td>\n",
       "    </tr>\n",
       "    <tr>\n",
       "      <th>23240</th>\n",
       "      <td>100002</td>\n",
       "      <td>0.001347</td>\n",
       "      <td>-0.001814</td>\n",
       "      <td>7025</td>\n",
       "      <td>3.40</td>\n",
       "      <td>26.128</td>\n",
       "      <td>8</td>\n",
       "      <td>21973</td>\n",
       "      <td>1.5</td>\n",
       "      <td>6.880030e-11</td>\n",
       "      <td>0</td>\n",
       "      <td>0.0000</td>\n",
       "      <td>0</td>\n",
       "      <td>0.00000</td>\n",
       "      <td>0</td>\n",
       "      <td>1930</td>\n",
       "      <td>3213.82</td>\n",
       "      <td>711</td>\n",
       "      <td>23.9269</td>\n",
       "      <td>0</td>\n",
       "      <td>1</td>\n",
       "      <td>1</td>\n",
       "    </tr>\n",
       "    <tr>\n",
       "      <th>4074</th>\n",
       "      <td>100003</td>\n",
       "      <td>-0.008623</td>\n",
       "      <td>0.002193</td>\n",
       "      <td>5946</td>\n",
       "      <td>2.48</td>\n",
       "      <td>23.620</td>\n",
       "      <td>8</td>\n",
       "      <td>27085</td>\n",
       "      <td>1.5</td>\n",
       "      <td>3.528220e-12</td>\n",
       "      <td>1002</td>\n",
       "      <td>2638.6300</td>\n",
       "      <td>1</td>\n",
       "      <td>3.22487</td>\n",
       "      <td>0</td>\n",
       "      <td>1706</td>\n",
       "      <td>3307.80</td>\n",
       "      <td>797</td>\n",
       "      <td>23.2667</td>\n",
       "      <td>0</td>\n",
       "      <td>1</td>\n",
       "      <td>0</td>\n",
       "    </tr>\n",
       "    <tr>\n",
       "      <th>47413</th>\n",
       "      <td>100004</td>\n",
       "      <td>0.000066</td>\n",
       "      <td>0.004247</td>\n",
       "      <td>3034</td>\n",
       "      <td>2.82</td>\n",
       "      <td>25.409</td>\n",
       "      <td>8</td>\n",
       "      <td>39754</td>\n",
       "      <td>1.5</td>\n",
       "      <td>4.721590e-12</td>\n",
       "      <td>0</td>\n",
       "      <td>0.0000</td>\n",
       "      <td>0</td>\n",
       "      <td>0.00000</td>\n",
       "      <td>0</td>\n",
       "      <td>2006</td>\n",
       "      <td>3994.27</td>\n",
       "      <td>725</td>\n",
       "      <td>23.6027</td>\n",
       "      <td>0</td>\n",
       "      <td>1</td>\n",
       "      <td>1</td>\n",
       "    </tr>\n",
       "  </tbody>\n",
       "</table>\n",
       "</div>"
      ],
      "text/plain": [
       "           ID    x_crit    y_crit  ID_source  z_source  EUC_VIS_mag_source  \\\n",
       "29386  100000  0.008547  0.002478       6499      1.72              25.947   \n",
       "35734  100001 -0.001746  0.006276       5136      2.80              25.969   \n",
       "23240  100002  0.001347 -0.001814       7025      3.40              26.128   \n",
       "4074   100003 -0.008623  0.002193       5946      2.48              23.620   \n",
       "47413  100004  0.000066  0.004247       3034      2.82              25.409   \n",
       "\n",
       "       caustic_plane  caustic_index  z_caustic_plane  Einstein_area  \\\n",
       "29386              8          33564              1.5   7.964440e-12   \n",
       "35734              8          46141              1.5   2.703240e-11   \n",
       "23240              8          21973              1.5   6.880030e-11   \n",
       "4074               8          27085              1.5   3.528220e-12   \n",
       "47413              8          39754              1.5   4.721590e-12   \n",
       "\n",
       "       numb_pix_lensed_image  flux_lensed_image_in_sigma  num_lensed_images  \\\n",
       "29386                     60                     84.4225                  1   \n",
       "35734                    291                    865.9030                  2   \n",
       "23240                      0                      0.0000                  0   \n",
       "4074                    1002                   2638.6300                  1   \n",
       "47413                      0                      0.0000                  0   \n",
       "\n",
       "       magnification_eff  KiDS_noise_map  total_numb_pixels_sigma  \\\n",
       "29386            1.95109               0                     2147   \n",
       "35734            6.83700               0                     1869   \n",
       "23240            0.00000               0                     1930   \n",
       "4074             3.22487               0                     1706   \n",
       "47413            0.00000               0                     2006   \n",
       "\n",
       "       flux_in_sigma  num_images  EUC_VIS_mag_lens  kids_lens_image  \\\n",
       "29386       13858.10         708           24.0633                0   \n",
       "35734        3226.74         738           23.4306                0   \n",
       "23240        3213.82         711           23.9269                0   \n",
       "4074         3307.80         797           23.2667                0   \n",
       "47413        3994.27         725           23.6027                0   \n",
       "\n",
       "       mobs_lens_imag  no_source  \n",
       "29386               1          0  \n",
       "35734               1          0  \n",
       "23240               1          1  \n",
       "4074                1          0  \n",
       "47413               1          1  "
      ]
     },
     "execution_count": 22,
     "metadata": {},
     "output_type": "execute_result"
    }
   ],
   "source": [
    "df_space_test = pd.read_csv(\n",
    "    '../../data/space_based_data/euclidB_image_catalog.csv',\n",
    "    sep=','\n",
    ")\n",
    "df_space_test = df_space_test.astype({'ID':int})\n",
    "df_space_test.sort_values(by='ID',inplace=True)\n",
    "df_space_test.head()"
   ]
  },
  {
   "cell_type": "markdown",
   "metadata": {},
   "source": [
    "#### Load model"
   ]
  },
  {
   "cell_type": "code",
   "execution_count": 23,
   "metadata": {},
   "outputs": [],
   "source": [
    "model = load_model(\n",
    "    '../../models/lensfinder/lensfinder_model_val_loss_0.25.hdf5',\n",
    "    custom_objects={'custom_relu': custom_relu})"
   ]
  },
  {
   "cell_type": "markdown",
   "metadata": {},
   "source": [
    "#### Get predictions"
   ]
  },
  {
   "cell_type": "code",
   "execution_count": 24,
   "metadata": {},
   "outputs": [
    {
     "name": "stdout",
     "output_type": "stream",
     "text": [
      "Tiempo de ejecución: 2672.2058341503143 segundos\n"
     ]
    }
   ],
   "source": [
    "path_space_based_test = '../../data/space_based_data/SpaceBasedTesting/Public/Band1/'\n",
    "y, y_pred, y_pred_classes = get_test_predictions(\n",
    "    path_space_based_test,\n",
    "    df_space_test,\n",
    "    model,\n",
    "    SPACE_TRAIN_MEAN,SPACE_TRAIN_STD\n",
    ")"
   ]
  },
  {
   "cell_type": "markdown",
   "metadata": {},
   "source": [
    "#### Classification report Lensfinder"
   ]
  },
  {
   "cell_type": "code",
   "execution_count": 31,
   "metadata": {},
   "outputs": [
    {
     "name": "stdout",
     "output_type": "stream",
     "text": [
      "              precision    recall  f1-score   support\n",
      "\n",
      "           0       0.88      0.90      0.89     60025\n",
      "           1       0.84      0.82      0.83     39975\n",
      "\n",
      "    accuracy                           0.87    100000\n",
      "   macro avg       0.86      0.86      0.86    100000\n",
      "weighted avg       0.87      0.87      0.87    100000\n",
      "\n"
     ]
    }
   ],
   "source": [
    "print(classification_report(y,y_pred_classes))"
   ]
  },
  {
   "cell_type": "markdown",
   "metadata": {},
   "source": [
    "#### ROC y AUROC"
   ]
  },
  {
   "cell_type": "code",
   "execution_count": 34,
   "metadata": {},
   "outputs": [],
   "source": [
    "false_positive_rate,true_positive_rate,tresholds = roc_curve(y, y_pred)"
   ]
  },
  {
   "cell_type": "code",
   "execution_count": 38,
   "metadata": {},
   "outputs": [
    {
     "data": {
      "image/png": "[encoded data removed]",
      "text/plain": [
       "<Figure size 432x288 with 1 Axes>"
      ]
     },
     "metadata": {
      "needs_background": "light"
     },
     "output_type": "display_data"
    }
   ],
   "source": [
    "plt.plot(false_positive_rate,true_positive_rate,label='Model Lensfinder')\n",
    "plt.xlim(0,1)\n",
    "plt.ylim(0,1)\n",
    "plt.legend()\n",
    "plt.xlabel('FPR')\n",
    "plt.ylabel('TPR')\n",
    "plt.title('ROC evaluated on Testing set')\n",
    "plt.grid('on')"
   ]
  },
  {
   "cell_type": "code",
   "execution_count": 60,
   "metadata": {},
   "outputs": [
    {
     "name": "stdout",
     "output_type": "stream",
     "text": [
      "Área under ROC curve: 0.9262\n"
     ]
    }
   ],
   "source": [
    "print(\"Área under ROC curve: {}\".format(roc_auc_score(y,y_pred).round(4)))"
   ]
  },
  {
   "cell_type": "markdown",
   "metadata": {},
   "source": [
    "El área bajo la curva ROC reportada utilizando un committee de 5 clasificadores fue de 0.9326, por lo cual esta reproducción se encuentra \"cerca\", con un 0.9262."
   ]
  },
  {
   "cell_type": "markdown",
   "metadata": {},
   "source": [
    "#### Confusion Matrix"
   ]
  },
  {
   "cell_type": "code",
   "execution_count": 57,
   "metadata": {},
   "outputs": [],
   "source": [
    "def plot_confusion_matrix(y,y_pred_classes):\n",
    "    cm = confusion_matrix(y, y_pred_classes)\n",
    "    ax= plt.subplot()\n",
    "    sns.heatmap(cm, annot=True, ax = ax,fmt='d'); #annot=True to annotate cells\n",
    "    # labels, title and ticks\n",
    "    ax.set_xlabel('Predicted labels')\n",
    "    ax.set_ylabel('True labels') \n",
    "    ax.set_title('Confusion Matrix') \n",
    "    ax.yaxis.set_ticklabels(['No Lens', 'Lens'])\n",
    "    ax.xaxis.set_ticklabels(['No Lens', 'Lens'])\n",
    "    plt.show()"
   ]
  },
  {
   "cell_type": "code",
   "execution_count": 58,
   "metadata": {},
   "outputs": [
    {
     "data": {
      "image/png": "[encoded data removed]",
      "text/plain": [
       "<Figure size 432x288 with 2 Axes>"
      ]
     },
     "metadata": {
      "needs_background": "light"
     },
     "output_type": "display_data"
    }
   ],
   "source": [
    "plot_confusion_matrix(y,y_pred_classes)"
   ]
  },
  {
   "cell_type": "markdown",
   "metadata": {},
   "source": [
    "En la matriz de confusión que se reporta en el paper original, se tiene mucho menos falsos positivos (6257 vs 40), pero también se menciona que se utiliza un threshold para su construcción cuyo valor no se especifica, por lo que no puedo hacer muchas comparaciones entre ellas."
   ]
  }
 ],
 "metadata": {
  "kernelspec": {
   "display_name": "Python 3",
   "language": "python",
   "name": "python3"
  },
  "language_info": {
   "codemirror_mode": {
    "name": "ipython",
    "version": 3
   },
   "file_extension": ".py",
   "mimetype": "text/x-python",
   "name": "python",
   "nbconvert_exporter": "python",
   "pygments_lexer": "ipython3",
   "version": "3.5.2"
  }
 },
 "nbformat": 4,
 "nbformat_minor": 4
}
